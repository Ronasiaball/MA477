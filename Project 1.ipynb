{
 "cells": [
  {
   "cell_type": "markdown",
   "metadata": {},
   "source": [
    "<h2> ======================================================</h2>\n",
    " <h1>MA477 - Theory and Applications of Data Science</h1> \n",
    "  <h1>Project 1: Linear Regression & KNN Regressor</h1> \n",
    " \n",
    " <h4>Dr. Valmir Bucaj</h4>\n",
    " <br>\n",
    " United States Military Academy, West Point, AY20-2\n",
    "<h2>=======================================================</h2>\n",
    "\n",
    "<h2> Weight: <font color='red'>75pts</font</h2>\n",
    "    \n",
    " <h2>Due Date: <font color='red'>Feb. 19th by COB</font</h2>"
   ]
  },
  {
   "cell_type": "markdown",
   "metadata": {},
   "source": [
    "<hr style=\"height:3.2px;border:none;color:#333;background-color:#333;\" />\n",
    "\n",
    "<h3> Cadet Name:</h3> Ronasia Ball\n",
    "<br>\n",
    "<h3>Date: </h3>\n",
    "\n",
    "<br>\n",
    "\n",
    "<font color='red' size='3'> <b>$\\dots \\dots$</b> MY DOCUMENTATION IDENTIFIES ALL SOURCES USED AND ASSISTANCE RECEIVED IN THIS ASSIGNMENT\n",
    "<br>\n",
    "\n",
    "<b>$\\dots \\dots$ </b> I DID NOT USE ANY SOURCES OR ASSISTANCE REQUIRING DOCUMENATION IN COMPLETING THIS ASSIGNMENT</font>\n",
    "\n",
    "<h3> Signature/Initials: </h3>\n",
    "\n",
    "<hr style=\"height:3px;border:none;color:#333;background-color:#333;\" />"
   ]
  },
  {
   "cell_type": "markdown",
   "metadata": {},
   "source": [
    "<h2>Description of Project</h2>\n",
    "\n",
    "In this project you will be working with the `incurance` dataset contained in the folder. The `insurance` dataset contains information of different people, and based on this information how much the insurance compay charges them. The ultimate goal is to predict the insurance charges for new people based on the historical information collected about each person. The features that have been collected are: `age, sex, bmi, children, smoker,` and `region`. \n",
    "\n",
    "You are provided with two separate sets: `insurance_train` which you will use to train your model and `insurance_test` which you will use to generate the predictions. Once you generate the predictions, you should save the results on an excel file and submit that to me. \n",
    "\n",
    "The project will be broken into two main parts: The <b>Analysis</b> and <b> Best Model</b> portions.\n",
    "\n",
    "<h3>Analysis</h3>\n",
    "\n",
    "The <b>Analysis</b> portion is worth <b>30pts</b>.\n",
    "\n",
    "For this portion of the project you will be evaluated on the overall analysis of the dataset.\n",
    "\n",
    "The rough point breakdown is as follows:\n",
    "\n",
    "<ul>\n",
    "<li>A one or two pargraph explaining what the project is about, what are the results, and the methodology: <b>10pts</b></li>\n",
    "\n",
    "<li>Thoroughly addressing all the questions and completing all the required tasks: <b>10pts </b></li>\n",
    "\n",
    "<li> Creativity and quality of Python code and explanation of the step-by-step code/work:<b> 10pts</b></li>\n",
    "</ul>\n",
    "\n",
    "<h4>Tasks</h4>\n",
    "\n",
    "<ul>\n",
    "    <li> Data Preprocessing: Explain how you are handling the missing data, are you scaling the data and why?</li>\n",
    "    \n",
    "   <li> Conduct exploratory analysis, and briefly summarize your observations and findings. Exploring your data using a variety of visual tools counts as part of exploratory analysis.</li>\n",
    "        \n",
    "   <li> Explain how you handled each of the qualitative features. </li>\n",
    "   \n",
    "   <li> What model did you pick and why? At this stage only choose between KNN Regressor and Linear Regression</li>\n",
    "   \n",
    "   <li>Explain the type of relationship(linear vs. non-linear) between features and response variable, and how you came to your conclusions. </li>\n",
    "   \n",
    "   <li> Obtain a measure of your model's variability and prediction power. Explain your method and results.</li>\n",
    "   \n",
    "    \n",
    " </ul>\n",
    "\n",
    "<h3>Best Model</h3>\n",
    "\n",
    "The <b>Best Model</b> portion is worth <b>20pts</b>.\n",
    "\n",
    "For this portion you will exclusively be evaluated on the predictive power of your model. In this portion you will be competing with the rest of your peers for the top score. The scores will be, roughly, distributed according to the following scheme:\n",
    "\n",
    "\n",
    "\n",
    "There are two instances where there may be significant deviations from the above grading scheme:\n",
    "\n",
    "\n",
    "\n",
    "\n",
    "\n",
    "<table>\n",
    "  <tr>\n",
    "    <th>Points</th>\n",
    "    <th>Criteria</th>\n",
    "\n",
    "  </tr>\n",
    "  <tr>\n",
    "    <td>18-20</td>\n",
    "    <td>Highest R2 Score</td>\n",
    "   \n",
    "  </tr>\n",
    "  <tr>\n",
    "    <td>17-19</td>\n",
    "    <td>.25 StDevs of highest R2 score</td>\n",
    "   \n",
    "  </tr>\n",
    "  <tr>\n",
    "    <td>15-16</td>\n",
    "    <td>.5 StDevs of highest R2 score</td>\n",
    "  \n",
    "  </tr>\n",
    "  <tr>\n",
    "    <td>13-14</td>\n",
    "    <td>.75 StDevs of highest R2 score</td>\n",
    "  \n",
    "  </tr>\n",
    "  <tr>\n",
    "    <td>11-12</td>\n",
    "    <td>1.25 StDevs of highest R2 score</td>\n",
    "\n",
    "  </tr>\n",
    "  <tr>\n",
    "    <td>10</td>\n",
    "    <td>1.75 StDevs of highest R2 score</td>\n",
    "   \n",
    "  </tr>\n",
    "  <tr>\n",
    "    <td>9</td>\n",
    "    <td>2 StDevs of highest R2 score</td>\n",
    "   \n",
    "  </tr>\n",
    "   <tr>\n",
    "    <td>7-8</td>\n",
    "    <td> 2+ StDevs of highest R2 score</td>\n",
    "   \n",
    "  </tr>\n",
    "</table>\n",
    "\n",
    "\n",
    "\n",
    "<ul>\n",
    "  <li> If a student's model achieves an R2 score that is at least as high as the R2 score achieved by the model build by the instructor, then you will automatically get a $20$</li>\n",
    "  <li> If the highest R2 score by a student is signigicantly smaller than the R2 score achieved by the model built by the instructor, the insturctor reserves the right to assign a max score that is significantly lower than what is stated in the grading scheme above. In this situation the rest of the scores will also be adjusted accordingly.</li>\n",
    " </ul>\n",
    " \n",
    " <h3>How to Submit?</h3>\n",
    " \n",
    " All of your work should be done in a single JupyterNotebook. You will submit to me via email a total of two files. One will be the JupyterNotebook which contains your whole work. The second file should be an excel file containing ONLY the predictions of your model on the test set `insurance_test`."
   ]
  },
  {
   "cell_type": "markdown",
   "metadata": {},
   "source": [
    "<hr style=\"height:3px;border:none;color:#333;background-color:#333;\" />\n",
    "<hr style=\"height:3px;border:none;color:#333;background-color:#333;\" />"
   ]
  },
  {
   "cell_type": "markdown",
   "metadata": {},
   "source": [
    "<h3> Project Description and Results </h3>"
   ]
  },
  {
   "cell_type": "markdown",
   "metadata": {},
   "source": [
    "This project is about being able to take raw data and create a model that predicts what the insurance company charged its customers. I took the data provided by my instructor and had to address issues such as missing data and qualitative features. The training data had information about a person's age, sex, bmi, number of children, whether or not they are a smoker and the region they are from. To create a model that predicts the charges, I used both KNN and linear regression. When using the KNN regressor, I got a really low r-squared. However, I was able to create a linear regression model that had a r squared of 0.75. "
   ]
  },
  {
   "cell_type": "markdown",
   "metadata": {},
   "source": [
    "<h3> Tasks </h3>"
   ]
  },
  {
   "cell_type": "markdown",
   "metadata": {},
   "source": [
    "<ul>\n",
    "    <li> Data Preprocessing: Missing data primarily came from the age and BMI columns. I decided to omit the BMI column because this data is not incredably relavent and filling the empty data with averages would add bias to the model. I also omited rows with missing ages because there was only a small amount of data points missing compared to the whole data set.   </li>\n",
    "    \n",
    "   <li> Exploratory analysis: I found that the variables seem to have a linear relationship with the response variable. I was able to observe this through obtaining a higher r- squared from the linear regression model and through the distribution of the residuals plot. Other tools used are labeled as they are used below.</li>\n",
    "        \n",
    "   <li> Qualitative features: The qualitative features where sex, smoker and region. I made sex and smoker binary. For region, I created a new column for each region using 1 or 0 to indicate if the person was a member of that region.  </li>\n",
    "   \n",
    "   <li> Model: I chose the Linear Regression because it has a higher r-squared. </li>\n",
    "   \n",
    "   <li>Relationship: It seems as though there is a linear relationship between features and response variable based on the high r-squared for the linear regression model there are large gaps in the plot. </li>\n",
    "   \n",
    "   <li> Model's variability and prediction power: I used the steped described in the linear regression section to find a r-sqraued of .75. This means that my model explains 75% of the varience.  </li>\n",
    "   \n",
    "    \n",
    " </ul>\n",
    " \n",
    " More information about specific tasks is visible below. "
   ]
  },
  {
   "cell_type": "code",
   "execution_count": 1,
   "metadata": {
    "scrolled": true
   },
   "outputs": [],
   "source": [
    "import pandas as pd\n",
    "import numpy as np\n",
    "import matplotlib.pyplot as plt\n",
    "import seaborn as sns"
   ]
  },
  {
   "cell_type": "markdown",
   "metadata": {},
   "source": [
    "These lines imports the data and shows the first five rows. "
   ]
  },
  {
   "cell_type": "code",
   "execution_count": 4,
   "metadata": {},
   "outputs": [],
   "source": [
    "train=pd.read_csv('insurance_train.csv')"
   ]
  },
  {
   "cell_type": "code",
   "execution_count": 5,
   "metadata": {},
   "outputs": [
    {
     "data": {
      "text/html": [
       "<div>\n",
       "<style scoped>\n",
       "    .dataframe tbody tr th:only-of-type {\n",
       "        vertical-align: middle;\n",
       "    }\n",
       "\n",
       "    .dataframe tbody tr th {\n",
       "        vertical-align: top;\n",
       "    }\n",
       "\n",
       "    .dataframe thead th {\n",
       "        text-align: right;\n",
       "    }\n",
       "</style>\n",
       "<table border=\"1\" class=\"dataframe\">\n",
       "  <thead>\n",
       "    <tr style=\"text-align: right;\">\n",
       "      <th></th>\n",
       "      <th>age</th>\n",
       "      <th>sex</th>\n",
       "      <th>bmi</th>\n",
       "      <th>children</th>\n",
       "      <th>smoker</th>\n",
       "      <th>region</th>\n",
       "      <th>charges</th>\n",
       "    </tr>\n",
       "  </thead>\n",
       "  <tbody>\n",
       "    <tr>\n",
       "      <td>0</td>\n",
       "      <td>52.0</td>\n",
       "      <td>female</td>\n",
       "      <td>24.130</td>\n",
       "      <td>1</td>\n",
       "      <td>yes</td>\n",
       "      <td>northwest</td>\n",
       "      <td>23887.66270</td>\n",
       "    </tr>\n",
       "    <tr>\n",
       "      <td>1</td>\n",
       "      <td>46.0</td>\n",
       "      <td>male</td>\n",
       "      <td>43.890</td>\n",
       "      <td>3</td>\n",
       "      <td>no</td>\n",
       "      <td>southeast</td>\n",
       "      <td>8944.11510</td>\n",
       "    </tr>\n",
       "    <tr>\n",
       "      <td>2</td>\n",
       "      <td>46.0</td>\n",
       "      <td>male</td>\n",
       "      <td>19.855</td>\n",
       "      <td>0</td>\n",
       "      <td>no</td>\n",
       "      <td>northwest</td>\n",
       "      <td>7526.70645</td>\n",
       "    </tr>\n",
       "    <tr>\n",
       "      <td>3</td>\n",
       "      <td>37.0</td>\n",
       "      <td>female</td>\n",
       "      <td>NaN</td>\n",
       "      <td>2</td>\n",
       "      <td>no</td>\n",
       "      <td>southwest</td>\n",
       "      <td>6311.95200</td>\n",
       "    </tr>\n",
       "    <tr>\n",
       "      <td>4</td>\n",
       "      <td>62.0</td>\n",
       "      <td>female</td>\n",
       "      <td>29.920</td>\n",
       "      <td>0</td>\n",
       "      <td>no</td>\n",
       "      <td>southeast</td>\n",
       "      <td>13457.96080</td>\n",
       "    </tr>\n",
       "  </tbody>\n",
       "</table>\n",
       "</div>"
      ],
      "text/plain": [
       "    age     sex     bmi  children smoker     region      charges\n",
       "0  52.0  female  24.130         1    yes  northwest  23887.66270\n",
       "1  46.0    male  43.890         3     no  southeast   8944.11510\n",
       "2  46.0    male  19.855         0     no  northwest   7526.70645\n",
       "3  37.0  female     NaN         2     no  southwest   6311.95200\n",
       "4  62.0  female  29.920         0     no  southeast  13457.96080"
      ]
     },
     "execution_count": 5,
     "metadata": {},
     "output_type": "execute_result"
    }
   ],
   "source": [
    "train.head()"
   ]
  },
  {
   "cell_type": "markdown",
   "metadata": {},
   "source": [
    "In these next few lines, I identify the different responses. Next, I change the qualitative features to quantitative features.  Using the apply method, I change the options to either 1 or 0."
   ]
  },
  {
   "cell_type": "code",
   "execution_count": 6,
   "metadata": {},
   "outputs": [
    {
     "data": {
      "text/plain": [
       "array(['female', 'male'], dtype=object)"
      ]
     },
     "execution_count": 6,
     "metadata": {},
     "output_type": "execute_result"
    }
   ],
   "source": [
    "train['sex'].unique()"
   ]
  },
  {
   "cell_type": "code",
   "execution_count": 7,
   "metadata": {},
   "outputs": [],
   "source": [
    "df1=train.copy()\n",
    "df1['sex']=train['sex'].apply(lambda x:1 if x=='female' else 0)"
   ]
  },
  {
   "cell_type": "code",
   "execution_count": 8,
   "metadata": {},
   "outputs": [
    {
     "data": {
      "text/plain": [
       "array(['yes', 'no'], dtype=object)"
      ]
     },
     "execution_count": 8,
     "metadata": {},
     "output_type": "execute_result"
    }
   ],
   "source": [
    "train['smoker'].unique()"
   ]
  },
  {
   "cell_type": "code",
   "execution_count": 9,
   "metadata": {},
   "outputs": [],
   "source": [
    "df2=df1.copy()\n",
    "df2['smoker']=df1['smoker'].apply(lambda x:1 if x=='yes' else 0)"
   ]
  },
  {
   "cell_type": "markdown",
   "metadata": {},
   "source": [
    "Here is the data after I change some of the features. \n",
    "I notice that there are 4 different options for region so I cannot use the apply method. Instead, I create new columns true or false columns for each region. True is 1 and False is 0. "
   ]
  },
  {
   "cell_type": "code",
   "execution_count": 10,
   "metadata": {},
   "outputs": [
    {
     "data": {
      "text/html": [
       "<div>\n",
       "<style scoped>\n",
       "    .dataframe tbody tr th:only-of-type {\n",
       "        vertical-align: middle;\n",
       "    }\n",
       "\n",
       "    .dataframe tbody tr th {\n",
       "        vertical-align: top;\n",
       "    }\n",
       "\n",
       "    .dataframe thead th {\n",
       "        text-align: right;\n",
       "    }\n",
       "</style>\n",
       "<table border=\"1\" class=\"dataframe\">\n",
       "  <thead>\n",
       "    <tr style=\"text-align: right;\">\n",
       "      <th></th>\n",
       "      <th>age</th>\n",
       "      <th>sex</th>\n",
       "      <th>bmi</th>\n",
       "      <th>children</th>\n",
       "      <th>smoker</th>\n",
       "      <th>region</th>\n",
       "      <th>charges</th>\n",
       "    </tr>\n",
       "  </thead>\n",
       "  <tbody>\n",
       "    <tr>\n",
       "      <td>0</td>\n",
       "      <td>52.0</td>\n",
       "      <td>1</td>\n",
       "      <td>24.130</td>\n",
       "      <td>1</td>\n",
       "      <td>1</td>\n",
       "      <td>northwest</td>\n",
       "      <td>23887.66270</td>\n",
       "    </tr>\n",
       "    <tr>\n",
       "      <td>1</td>\n",
       "      <td>46.0</td>\n",
       "      <td>0</td>\n",
       "      <td>43.890</td>\n",
       "      <td>3</td>\n",
       "      <td>0</td>\n",
       "      <td>southeast</td>\n",
       "      <td>8944.11510</td>\n",
       "    </tr>\n",
       "    <tr>\n",
       "      <td>2</td>\n",
       "      <td>46.0</td>\n",
       "      <td>0</td>\n",
       "      <td>19.855</td>\n",
       "      <td>0</td>\n",
       "      <td>0</td>\n",
       "      <td>northwest</td>\n",
       "      <td>7526.70645</td>\n",
       "    </tr>\n",
       "    <tr>\n",
       "      <td>3</td>\n",
       "      <td>37.0</td>\n",
       "      <td>1</td>\n",
       "      <td>NaN</td>\n",
       "      <td>2</td>\n",
       "      <td>0</td>\n",
       "      <td>southwest</td>\n",
       "      <td>6311.95200</td>\n",
       "    </tr>\n",
       "    <tr>\n",
       "      <td>4</td>\n",
       "      <td>62.0</td>\n",
       "      <td>1</td>\n",
       "      <td>29.920</td>\n",
       "      <td>0</td>\n",
       "      <td>0</td>\n",
       "      <td>southeast</td>\n",
       "      <td>13457.96080</td>\n",
       "    </tr>\n",
       "  </tbody>\n",
       "</table>\n",
       "</div>"
      ],
      "text/plain": [
       "    age  sex     bmi  children  smoker     region      charges\n",
       "0  52.0    1  24.130         1       1  northwest  23887.66270\n",
       "1  46.0    0  43.890         3       0  southeast   8944.11510\n",
       "2  46.0    0  19.855         0       0  northwest   7526.70645\n",
       "3  37.0    1     NaN         2       0  southwest   6311.95200\n",
       "4  62.0    1  29.920         0       0  southeast  13457.96080"
      ]
     },
     "execution_count": 10,
     "metadata": {},
     "output_type": "execute_result"
    }
   ],
   "source": [
    "df2.head()"
   ]
  },
  {
   "cell_type": "code",
   "execution_count": 11,
   "metadata": {},
   "outputs": [
    {
     "data": {
      "text/plain": [
       "array(['northwest', 'southeast', 'southwest', 'northeast'], dtype=object)"
      ]
     },
     "execution_count": 11,
     "metadata": {},
     "output_type": "execute_result"
    }
   ],
   "source": [
    "train['region'].unique()"
   ]
  },
  {
   "cell_type": "code",
   "execution_count": 12,
   "metadata": {},
   "outputs": [],
   "source": [
    "df=df2.copy()"
   ]
  },
  {
   "cell_type": "code",
   "execution_count": 13,
   "metadata": {
    "scrolled": true
   },
   "outputs": [],
   "source": [
    "df=pd.get_dummies(df,'region')\n",
    "#From https://www.w3resource.com/pandas/get_dummies.php"
   ]
  },
  {
   "cell_type": "code",
   "execution_count": 14,
   "metadata": {},
   "outputs": [
    {
     "data": {
      "text/html": [
       "<div>\n",
       "<style scoped>\n",
       "    .dataframe tbody tr th:only-of-type {\n",
       "        vertical-align: middle;\n",
       "    }\n",
       "\n",
       "    .dataframe tbody tr th {\n",
       "        vertical-align: top;\n",
       "    }\n",
       "\n",
       "    .dataframe thead th {\n",
       "        text-align: right;\n",
       "    }\n",
       "</style>\n",
       "<table border=\"1\" class=\"dataframe\">\n",
       "  <thead>\n",
       "    <tr style=\"text-align: right;\">\n",
       "      <th></th>\n",
       "      <th>age</th>\n",
       "      <th>sex</th>\n",
       "      <th>bmi</th>\n",
       "      <th>children</th>\n",
       "      <th>smoker</th>\n",
       "      <th>charges</th>\n",
       "      <th>region_northeast</th>\n",
       "      <th>region_northwest</th>\n",
       "      <th>region_southeast</th>\n",
       "      <th>region_southwest</th>\n",
       "    </tr>\n",
       "  </thead>\n",
       "  <tbody>\n",
       "    <tr>\n",
       "      <td>0</td>\n",
       "      <td>52.0</td>\n",
       "      <td>1</td>\n",
       "      <td>24.130</td>\n",
       "      <td>1</td>\n",
       "      <td>1</td>\n",
       "      <td>23887.66270</td>\n",
       "      <td>0</td>\n",
       "      <td>1</td>\n",
       "      <td>0</td>\n",
       "      <td>0</td>\n",
       "    </tr>\n",
       "    <tr>\n",
       "      <td>1</td>\n",
       "      <td>46.0</td>\n",
       "      <td>0</td>\n",
       "      <td>43.890</td>\n",
       "      <td>3</td>\n",
       "      <td>0</td>\n",
       "      <td>8944.11510</td>\n",
       "      <td>0</td>\n",
       "      <td>0</td>\n",
       "      <td>1</td>\n",
       "      <td>0</td>\n",
       "    </tr>\n",
       "    <tr>\n",
       "      <td>2</td>\n",
       "      <td>46.0</td>\n",
       "      <td>0</td>\n",
       "      <td>19.855</td>\n",
       "      <td>0</td>\n",
       "      <td>0</td>\n",
       "      <td>7526.70645</td>\n",
       "      <td>0</td>\n",
       "      <td>1</td>\n",
       "      <td>0</td>\n",
       "      <td>0</td>\n",
       "    </tr>\n",
       "    <tr>\n",
       "      <td>3</td>\n",
       "      <td>37.0</td>\n",
       "      <td>1</td>\n",
       "      <td>NaN</td>\n",
       "      <td>2</td>\n",
       "      <td>0</td>\n",
       "      <td>6311.95200</td>\n",
       "      <td>0</td>\n",
       "      <td>0</td>\n",
       "      <td>0</td>\n",
       "      <td>1</td>\n",
       "    </tr>\n",
       "    <tr>\n",
       "      <td>4</td>\n",
       "      <td>62.0</td>\n",
       "      <td>1</td>\n",
       "      <td>29.920</td>\n",
       "      <td>0</td>\n",
       "      <td>0</td>\n",
       "      <td>13457.96080</td>\n",
       "      <td>0</td>\n",
       "      <td>0</td>\n",
       "      <td>1</td>\n",
       "      <td>0</td>\n",
       "    </tr>\n",
       "  </tbody>\n",
       "</table>\n",
       "</div>"
      ],
      "text/plain": [
       "    age  sex     bmi  children  smoker      charges  region_northeast  \\\n",
       "0  52.0    1  24.130         1       1  23887.66270                 0   \n",
       "1  46.0    0  43.890         3       0   8944.11510                 0   \n",
       "2  46.0    0  19.855         0       0   7526.70645                 0   \n",
       "3  37.0    1     NaN         2       0   6311.95200                 0   \n",
       "4  62.0    1  29.920         0       0  13457.96080                 0   \n",
       "\n",
       "   region_northwest  region_southeast  region_southwest  \n",
       "0                 1                 0                 0  \n",
       "1                 0                 1                 0  \n",
       "2                 1                 0                 0  \n",
       "3                 0                 0                 1  \n",
       "4                 0                 1                 0  "
      ]
     },
     "execution_count": 14,
     "metadata": {},
     "output_type": "execute_result"
    }
   ],
   "source": [
    "df.head()"
   ]
  },
  {
   "cell_type": "markdown",
   "metadata": {},
   "source": [
    "The target variable is charges, so we want it at the end. "
   ]
  },
  {
   "cell_type": "code",
   "execution_count": 15,
   "metadata": {},
   "outputs": [],
   "source": [
    "df=df[['age','sex','children','smoker','region_northwest','region_southeast','region_southwest','charges']]"
   ]
  },
  {
   "cell_type": "markdown",
   "metadata": {},
   "source": [
    "I noticed that my data has some missing values. I use the .isnull().sum command to find how many point are missing in each column. "
   ]
  },
  {
   "cell_type": "markdown",
   "metadata": {},
   "source": [
    "Retreived from: https://www.youtube.com/watch?v=fCMrO_VzeL8"
   ]
  },
  {
   "cell_type": "code",
   "execution_count": 16,
   "metadata": {
    "scrolled": true
   },
   "outputs": [
    {
     "data": {
      "text/plain": [
       "age                 86\n",
       "sex                  0\n",
       "children             0\n",
       "smoker               0\n",
       "region_northwest     0\n",
       "region_southeast     0\n",
       "region_southwest     0\n",
       "charges              0\n",
       "dtype: int64"
      ]
     },
     "execution_count": 16,
     "metadata": {},
     "output_type": "execute_result"
    }
   ],
   "source": [
    "df.isnull().sum()"
   ]
  },
  {
   "cell_type": "code",
   "execution_count": 17,
   "metadata": {},
   "outputs": [
    {
     "data": {
      "text/plain": [
       "(1003, 8)"
      ]
     },
     "execution_count": 17,
     "metadata": {},
     "output_type": "execute_result"
    }
   ],
   "source": [
    "df.shape"
   ]
  },
  {
   "cell_type": "markdown",
   "metadata": {},
   "source": [
    "Next i use the .dropna command to drop the rows with missing values. I choose to do this because there are so many data points that losing about 90 should not make a good impact. I did this because the missing data seemed random aswell so I should not be adding any bias to my model. "
   ]
  },
  {
   "cell_type": "code",
   "execution_count": 18,
   "metadata": {},
   "outputs": [],
   "source": [
    "df.dropna(how='any',inplace=True)"
   ]
  },
  {
   "cell_type": "code",
   "execution_count": 19,
   "metadata": {},
   "outputs": [
    {
     "data": {
      "text/plain": [
       "(917, 8)"
      ]
     },
     "execution_count": 19,
     "metadata": {},
     "output_type": "execute_result"
    }
   ],
   "source": [
    "df.shape"
   ]
  },
  {
   "cell_type": "code",
   "execution_count": 20,
   "metadata": {
    "scrolled": false
   },
   "outputs": [
    {
     "data": {
      "text/html": [
       "<div>\n",
       "<style scoped>\n",
       "    .dataframe tbody tr th:only-of-type {\n",
       "        vertical-align: middle;\n",
       "    }\n",
       "\n",
       "    .dataframe tbody tr th {\n",
       "        vertical-align: top;\n",
       "    }\n",
       "\n",
       "    .dataframe thead th {\n",
       "        text-align: right;\n",
       "    }\n",
       "</style>\n",
       "<table border=\"1\" class=\"dataframe\">\n",
       "  <thead>\n",
       "    <tr style=\"text-align: right;\">\n",
       "      <th></th>\n",
       "      <th>age</th>\n",
       "      <th>sex</th>\n",
       "      <th>children</th>\n",
       "      <th>smoker</th>\n",
       "      <th>region_northwest</th>\n",
       "      <th>region_southeast</th>\n",
       "      <th>region_southwest</th>\n",
       "      <th>charges</th>\n",
       "    </tr>\n",
       "  </thead>\n",
       "  <tbody>\n",
       "    <tr>\n",
       "      <td>0</td>\n",
       "      <td>52.0</td>\n",
       "      <td>1</td>\n",
       "      <td>1</td>\n",
       "      <td>1</td>\n",
       "      <td>1</td>\n",
       "      <td>0</td>\n",
       "      <td>0</td>\n",
       "      <td>23887.66270</td>\n",
       "    </tr>\n",
       "    <tr>\n",
       "      <td>1</td>\n",
       "      <td>46.0</td>\n",
       "      <td>0</td>\n",
       "      <td>3</td>\n",
       "      <td>0</td>\n",
       "      <td>0</td>\n",
       "      <td>1</td>\n",
       "      <td>0</td>\n",
       "      <td>8944.11510</td>\n",
       "    </tr>\n",
       "    <tr>\n",
       "      <td>2</td>\n",
       "      <td>46.0</td>\n",
       "      <td>0</td>\n",
       "      <td>0</td>\n",
       "      <td>0</td>\n",
       "      <td>1</td>\n",
       "      <td>0</td>\n",
       "      <td>0</td>\n",
       "      <td>7526.70645</td>\n",
       "    </tr>\n",
       "    <tr>\n",
       "      <td>3</td>\n",
       "      <td>37.0</td>\n",
       "      <td>1</td>\n",
       "      <td>2</td>\n",
       "      <td>0</td>\n",
       "      <td>0</td>\n",
       "      <td>0</td>\n",
       "      <td>1</td>\n",
       "      <td>6311.95200</td>\n",
       "    </tr>\n",
       "    <tr>\n",
       "      <td>4</td>\n",
       "      <td>62.0</td>\n",
       "      <td>1</td>\n",
       "      <td>0</td>\n",
       "      <td>0</td>\n",
       "      <td>0</td>\n",
       "      <td>1</td>\n",
       "      <td>0</td>\n",
       "      <td>13457.96080</td>\n",
       "    </tr>\n",
       "  </tbody>\n",
       "</table>\n",
       "</div>"
      ],
      "text/plain": [
       "    age  sex  children  smoker  region_northwest  region_southeast  \\\n",
       "0  52.0    1         1       1                 1                 0   \n",
       "1  46.0    0         3       0                 0                 1   \n",
       "2  46.0    0         0       0                 1                 0   \n",
       "3  37.0    1         2       0                 0                 0   \n",
       "4  62.0    1         0       0                 0                 1   \n",
       "\n",
       "   region_southwest      charges  \n",
       "0                 0  23887.66270  \n",
       "1                 0   8944.11510  \n",
       "2                 0   7526.70645  \n",
       "3                 1   6311.95200  \n",
       "4                 0  13457.96080  "
      ]
     },
     "execution_count": 20,
     "metadata": {},
     "output_type": "execute_result"
    }
   ],
   "source": [
    "df.head()"
   ]
  },
  {
   "cell_type": "code",
   "execution_count": 21,
   "metadata": {},
   "outputs": [],
   "source": [
    "df=df.reindex(columns=['age','sex','children','smoker','region_northwest','region_southeast','region_southwest','charges'])"
   ]
  },
  {
   "cell_type": "code",
   "execution_count": 22,
   "metadata": {},
   "outputs": [
    {
     "data": {
      "text/html": [
       "<div>\n",
       "<style scoped>\n",
       "    .dataframe tbody tr th:only-of-type {\n",
       "        vertical-align: middle;\n",
       "    }\n",
       "\n",
       "    .dataframe tbody tr th {\n",
       "        vertical-align: top;\n",
       "    }\n",
       "\n",
       "    .dataframe thead th {\n",
       "        text-align: right;\n",
       "    }\n",
       "</style>\n",
       "<table border=\"1\" class=\"dataframe\">\n",
       "  <thead>\n",
       "    <tr style=\"text-align: right;\">\n",
       "      <th></th>\n",
       "      <th>age</th>\n",
       "      <th>sex</th>\n",
       "      <th>children</th>\n",
       "      <th>smoker</th>\n",
       "      <th>region_northwest</th>\n",
       "      <th>region_southeast</th>\n",
       "      <th>region_southwest</th>\n",
       "      <th>charges</th>\n",
       "    </tr>\n",
       "  </thead>\n",
       "  <tbody>\n",
       "    <tr>\n",
       "      <td>0</td>\n",
       "      <td>52.0</td>\n",
       "      <td>1</td>\n",
       "      <td>1</td>\n",
       "      <td>1</td>\n",
       "      <td>1</td>\n",
       "      <td>0</td>\n",
       "      <td>0</td>\n",
       "      <td>23887.66270</td>\n",
       "    </tr>\n",
       "    <tr>\n",
       "      <td>1</td>\n",
       "      <td>46.0</td>\n",
       "      <td>0</td>\n",
       "      <td>3</td>\n",
       "      <td>0</td>\n",
       "      <td>0</td>\n",
       "      <td>1</td>\n",
       "      <td>0</td>\n",
       "      <td>8944.11510</td>\n",
       "    </tr>\n",
       "    <tr>\n",
       "      <td>2</td>\n",
       "      <td>46.0</td>\n",
       "      <td>0</td>\n",
       "      <td>0</td>\n",
       "      <td>0</td>\n",
       "      <td>1</td>\n",
       "      <td>0</td>\n",
       "      <td>0</td>\n",
       "      <td>7526.70645</td>\n",
       "    </tr>\n",
       "    <tr>\n",
       "      <td>3</td>\n",
       "      <td>37.0</td>\n",
       "      <td>1</td>\n",
       "      <td>2</td>\n",
       "      <td>0</td>\n",
       "      <td>0</td>\n",
       "      <td>0</td>\n",
       "      <td>1</td>\n",
       "      <td>6311.95200</td>\n",
       "    </tr>\n",
       "    <tr>\n",
       "      <td>4</td>\n",
       "      <td>62.0</td>\n",
       "      <td>1</td>\n",
       "      <td>0</td>\n",
       "      <td>0</td>\n",
       "      <td>0</td>\n",
       "      <td>1</td>\n",
       "      <td>0</td>\n",
       "      <td>13457.96080</td>\n",
       "    </tr>\n",
       "  </tbody>\n",
       "</table>\n",
       "</div>"
      ],
      "text/plain": [
       "    age  sex  children  smoker  region_northwest  region_southeast  \\\n",
       "0  52.0    1         1       1                 1                 0   \n",
       "1  46.0    0         3       0                 0                 1   \n",
       "2  46.0    0         0       0                 1                 0   \n",
       "3  37.0    1         2       0                 0                 0   \n",
       "4  62.0    1         0       0                 0                 1   \n",
       "\n",
       "   region_southwest      charges  \n",
       "0                 0  23887.66270  \n",
       "1                 0   8944.11510  \n",
       "2                 0   7526.70645  \n",
       "3                 1   6311.95200  \n",
       "4                 0  13457.96080  "
      ]
     },
     "execution_count": 22,
     "metadata": {},
     "output_type": "execute_result"
    }
   ],
   "source": [
    "df.head()"
   ]
  },
  {
   "cell_type": "markdown",
   "metadata": {},
   "source": [
    "<hr style=\"height:3px;border:none;color:#333;background-color:#333;\" />"
   ]
  },
  {
   "cell_type": "markdown",
   "metadata": {},
   "source": [
    "<h3> K Nearest Neighbor(KNN) Regressor </h3>"
   ]
  },
  {
   "cell_type": "code",
   "execution_count": 23,
   "metadata": {},
   "outputs": [],
   "source": [
    "from sklearn.preprocessing import StandardScaler"
   ]
  },
  {
   "cell_type": "markdown",
   "metadata": {},
   "source": [
    "Before I run the KNN regressor, I must scale the data to allow each factor to use the same metric. However, I will not scale the response variable y. "
   ]
  },
  {
   "cell_type": "code",
   "execution_count": 24,
   "metadata": {},
   "outputs": [],
   "source": [
    "X=df.drop('charges',axis=1)\n",
    "y=df['charges']"
   ]
  },
  {
   "cell_type": "markdown",
   "metadata": {},
   "source": [
    "This saved the response variable as y and the features on a new dataframe as X."
   ]
  },
  {
   "cell_type": "code",
   "execution_count": 25,
   "metadata": {},
   "outputs": [
    {
     "data": {
      "text/html": [
       "<div>\n",
       "<style scoped>\n",
       "    .dataframe tbody tr th:only-of-type {\n",
       "        vertical-align: middle;\n",
       "    }\n",
       "\n",
       "    .dataframe tbody tr th {\n",
       "        vertical-align: top;\n",
       "    }\n",
       "\n",
       "    .dataframe thead th {\n",
       "        text-align: right;\n",
       "    }\n",
       "</style>\n",
       "<table border=\"1\" class=\"dataframe\">\n",
       "  <thead>\n",
       "    <tr style=\"text-align: right;\">\n",
       "      <th></th>\n",
       "      <th>age</th>\n",
       "      <th>sex</th>\n",
       "      <th>children</th>\n",
       "      <th>smoker</th>\n",
       "      <th>region_northwest</th>\n",
       "      <th>region_southeast</th>\n",
       "      <th>region_southwest</th>\n",
       "    </tr>\n",
       "  </thead>\n",
       "  <tbody>\n",
       "    <tr>\n",
       "      <td>0</td>\n",
       "      <td>52.0</td>\n",
       "      <td>1</td>\n",
       "      <td>1</td>\n",
       "      <td>1</td>\n",
       "      <td>1</td>\n",
       "      <td>0</td>\n",
       "      <td>0</td>\n",
       "    </tr>\n",
       "    <tr>\n",
       "      <td>1</td>\n",
       "      <td>46.0</td>\n",
       "      <td>0</td>\n",
       "      <td>3</td>\n",
       "      <td>0</td>\n",
       "      <td>0</td>\n",
       "      <td>1</td>\n",
       "      <td>0</td>\n",
       "    </tr>\n",
       "    <tr>\n",
       "      <td>2</td>\n",
       "      <td>46.0</td>\n",
       "      <td>0</td>\n",
       "      <td>0</td>\n",
       "      <td>0</td>\n",
       "      <td>1</td>\n",
       "      <td>0</td>\n",
       "      <td>0</td>\n",
       "    </tr>\n",
       "    <tr>\n",
       "      <td>3</td>\n",
       "      <td>37.0</td>\n",
       "      <td>1</td>\n",
       "      <td>2</td>\n",
       "      <td>0</td>\n",
       "      <td>0</td>\n",
       "      <td>0</td>\n",
       "      <td>1</td>\n",
       "    </tr>\n",
       "    <tr>\n",
       "      <td>4</td>\n",
       "      <td>62.0</td>\n",
       "      <td>1</td>\n",
       "      <td>0</td>\n",
       "      <td>0</td>\n",
       "      <td>0</td>\n",
       "      <td>1</td>\n",
       "      <td>0</td>\n",
       "    </tr>\n",
       "  </tbody>\n",
       "</table>\n",
       "</div>"
      ],
      "text/plain": [
       "    age  sex  children  smoker  region_northwest  region_southeast  \\\n",
       "0  52.0    1         1       1                 1                 0   \n",
       "1  46.0    0         3       0                 0                 1   \n",
       "2  46.0    0         0       0                 1                 0   \n",
       "3  37.0    1         2       0                 0                 0   \n",
       "4  62.0    1         0       0                 0                 1   \n",
       "\n",
       "   region_southwest  \n",
       "0                 0  \n",
       "1                 0  \n",
       "2                 0  \n",
       "3                 1  \n",
       "4                 0  "
      ]
     },
     "execution_count": 25,
     "metadata": {},
     "output_type": "execute_result"
    }
   ],
   "source": [
    "X.head()"
   ]
  },
  {
   "cell_type": "code",
   "execution_count": 26,
   "metadata": {},
   "outputs": [],
   "source": [
    "scaler=StandardScaler()"
   ]
  },
  {
   "cell_type": "code",
   "execution_count": 27,
   "metadata": {},
   "outputs": [
    {
     "data": {
      "text/plain": [
       "StandardScaler(copy=True, with_mean=True, with_std=True)"
      ]
     },
     "execution_count": 27,
     "metadata": {},
     "output_type": "execute_result"
    }
   ],
   "source": [
    "scaler.fit(X)"
   ]
  },
  {
   "cell_type": "code",
   "execution_count": 28,
   "metadata": {},
   "outputs": [],
   "source": [
    "scaled=scaler.transform(X)"
   ]
  },
  {
   "cell_type": "code",
   "execution_count": 29,
   "metadata": {},
   "outputs": [
    {
     "data": {
      "text/plain": [
       "Index(['age', 'sex', 'children', 'smoker', 'region_northwest',\n",
       "       'region_southeast', 'region_southwest'],\n",
       "      dtype='object')"
      ]
     },
     "execution_count": 29,
     "metadata": {},
     "output_type": "execute_result"
    }
   ],
   "source": [
    "X.columns"
   ]
  },
  {
   "cell_type": "code",
   "execution_count": 30,
   "metadata": {},
   "outputs": [
    {
     "data": {
      "text/plain": [
       "array([[ 0.92535063,  0.97309889, -0.07611069, ...,  1.85201288,\n",
       "        -0.60548905, -0.59876416],\n",
       "       [ 0.49487129, -1.02764479,  1.58563937, ..., -0.53995305,\n",
       "         1.65155753, -0.59876416],\n",
       "       [ 0.49487129, -1.02764479, -0.90698572, ...,  1.85201288,\n",
       "        -0.60548905, -0.59876416],\n",
       "       ...,\n",
       "       [-0.79656673,  0.97309889, -0.07611069, ..., -0.53995305,\n",
       "        -0.60548905, -0.59876416],\n",
       "       [-1.5140323 ,  0.97309889, -0.90698572, ..., -0.53995305,\n",
       "        -0.60548905, -0.59876416],\n",
       "       [-0.29434083,  0.97309889, -0.90698572, ...,  1.85201288,\n",
       "        -0.60548905, -0.59876416]])"
      ]
     },
     "execution_count": 30,
     "metadata": {},
     "output_type": "execute_result"
    }
   ],
   "source": [
    "scaled"
   ]
  },
  {
   "cell_type": "code",
   "execution_count": 31,
   "metadata": {},
   "outputs": [
    {
     "data": {
      "text/plain": [
       "Int64Index([   0,    1,    2,    3,    4,    6,    7,    8,    9,   11,\n",
       "            ...\n",
       "             990,  991,  994,  995,  997,  998,  999, 1000, 1001, 1002],\n",
       "           dtype='int64', length=917)"
      ]
     },
     "execution_count": 31,
     "metadata": {},
     "output_type": "execute_result"
    }
   ],
   "source": [
    "X.index"
   ]
  },
  {
   "cell_type": "markdown",
   "metadata": {},
   "source": [
    "I created a new dataframe of the scaled data called X_sc after scaling the data. "
   ]
  },
  {
   "cell_type": "code",
   "execution_count": 32,
   "metadata": {},
   "outputs": [],
   "source": [
    "X_sc=pd.DataFrame(scaled,columns=X.columns)"
   ]
  },
  {
   "cell_type": "code",
   "execution_count": 33,
   "metadata": {
    "scrolled": true
   },
   "outputs": [
    {
     "data": {
      "text/html": [
       "<div>\n",
       "<style scoped>\n",
       "    .dataframe tbody tr th:only-of-type {\n",
       "        vertical-align: middle;\n",
       "    }\n",
       "\n",
       "    .dataframe tbody tr th {\n",
       "        vertical-align: top;\n",
       "    }\n",
       "\n",
       "    .dataframe thead th {\n",
       "        text-align: right;\n",
       "    }\n",
       "</style>\n",
       "<table border=\"1\" class=\"dataframe\">\n",
       "  <thead>\n",
       "    <tr style=\"text-align: right;\">\n",
       "      <th></th>\n",
       "      <th>age</th>\n",
       "      <th>sex</th>\n",
       "      <th>children</th>\n",
       "      <th>smoker</th>\n",
       "      <th>region_northwest</th>\n",
       "      <th>region_southeast</th>\n",
       "      <th>region_southwest</th>\n",
       "    </tr>\n",
       "  </thead>\n",
       "  <tbody>\n",
       "    <tr>\n",
       "      <td>0</td>\n",
       "      <td>0.925351</td>\n",
       "      <td>0.973099</td>\n",
       "      <td>-0.076111</td>\n",
       "      <td>1.962614</td>\n",
       "      <td>1.852013</td>\n",
       "      <td>-0.605489</td>\n",
       "      <td>-0.598764</td>\n",
       "    </tr>\n",
       "    <tr>\n",
       "      <td>1</td>\n",
       "      <td>0.494871</td>\n",
       "      <td>-1.027645</td>\n",
       "      <td>1.585639</td>\n",
       "      <td>-0.509525</td>\n",
       "      <td>-0.539953</td>\n",
       "      <td>1.651558</td>\n",
       "      <td>-0.598764</td>\n",
       "    </tr>\n",
       "    <tr>\n",
       "      <td>2</td>\n",
       "      <td>0.494871</td>\n",
       "      <td>-1.027645</td>\n",
       "      <td>-0.906986</td>\n",
       "      <td>-0.509525</td>\n",
       "      <td>1.852013</td>\n",
       "      <td>-0.605489</td>\n",
       "      <td>-0.598764</td>\n",
       "    </tr>\n",
       "    <tr>\n",
       "      <td>3</td>\n",
       "      <td>-0.150848</td>\n",
       "      <td>0.973099</td>\n",
       "      <td>0.754764</td>\n",
       "      <td>-0.509525</td>\n",
       "      <td>-0.539953</td>\n",
       "      <td>-0.605489</td>\n",
       "      <td>1.670107</td>\n",
       "    </tr>\n",
       "    <tr>\n",
       "      <td>4</td>\n",
       "      <td>1.642816</td>\n",
       "      <td>0.973099</td>\n",
       "      <td>-0.906986</td>\n",
       "      <td>-0.509525</td>\n",
       "      <td>-0.539953</td>\n",
       "      <td>1.651558</td>\n",
       "      <td>-0.598764</td>\n",
       "    </tr>\n",
       "  </tbody>\n",
       "</table>\n",
       "</div>"
      ],
      "text/plain": [
       "        age       sex  children    smoker  region_northwest  region_southeast  \\\n",
       "0  0.925351  0.973099 -0.076111  1.962614          1.852013         -0.605489   \n",
       "1  0.494871 -1.027645  1.585639 -0.509525         -0.539953          1.651558   \n",
       "2  0.494871 -1.027645 -0.906986 -0.509525          1.852013         -0.605489   \n",
       "3 -0.150848  0.973099  0.754764 -0.509525         -0.539953         -0.605489   \n",
       "4  1.642816  0.973099 -0.906986 -0.509525         -0.539953          1.651558   \n",
       "\n",
       "   region_southwest  \n",
       "0         -0.598764  \n",
       "1         -0.598764  \n",
       "2         -0.598764  \n",
       "3          1.670107  \n",
       "4         -0.598764  "
      ]
     },
     "execution_count": 33,
     "metadata": {},
     "output_type": "execute_result"
    }
   ],
   "source": [
    "X_sc.head()"
   ]
  },
  {
   "cell_type": "markdown",
   "metadata": {},
   "source": [
    "The following code splits the data into a training set with a 70-30 split."
   ]
  },
  {
   "cell_type": "code",
   "execution_count": 34,
   "metadata": {},
   "outputs": [],
   "source": [
    "from sklearn.neighbors import KNeighborsRegressor"
   ]
  },
  {
   "cell_type": "code",
   "execution_count": 35,
   "metadata": {},
   "outputs": [],
   "source": [
    "from sklearn.model_selection import train_test_split"
   ]
  },
  {
   "cell_type": "code",
   "execution_count": 36,
   "metadata": {},
   "outputs": [],
   "source": [
    "X_train,X_test, y_train,y_test=train_test_split(X_sc,y,test_size=0.3,random_state=101)"
   ]
  },
  {
   "cell_type": "markdown",
   "metadata": {},
   "source": [
    "This checks the head of X_train, X_test."
   ]
  },
  {
   "cell_type": "code",
   "execution_count": 37,
   "metadata": {},
   "outputs": [
    {
     "data": {
      "text/html": [
       "<div>\n",
       "<style scoped>\n",
       "    .dataframe tbody tr th:only-of-type {\n",
       "        vertical-align: middle;\n",
       "    }\n",
       "\n",
       "    .dataframe tbody tr th {\n",
       "        vertical-align: top;\n",
       "    }\n",
       "\n",
       "    .dataframe thead th {\n",
       "        text-align: right;\n",
       "    }\n",
       "</style>\n",
       "<table border=\"1\" class=\"dataframe\">\n",
       "  <thead>\n",
       "    <tr style=\"text-align: right;\">\n",
       "      <th></th>\n",
       "      <th>age</th>\n",
       "      <th>sex</th>\n",
       "      <th>children</th>\n",
       "      <th>smoker</th>\n",
       "      <th>region_northwest</th>\n",
       "      <th>region_southeast</th>\n",
       "      <th>region_southwest</th>\n",
       "    </tr>\n",
       "  </thead>\n",
       "  <tbody>\n",
       "    <tr>\n",
       "      <td>333</td>\n",
       "      <td>-1.155300</td>\n",
       "      <td>-1.027645</td>\n",
       "      <td>1.585639</td>\n",
       "      <td>-0.509525</td>\n",
       "      <td>-0.539953</td>\n",
       "      <td>-0.605489</td>\n",
       "      <td>1.670107</td>\n",
       "    </tr>\n",
       "    <tr>\n",
       "      <td>291</td>\n",
       "      <td>0.494871</td>\n",
       "      <td>0.973099</td>\n",
       "      <td>-0.076111</td>\n",
       "      <td>1.962614</td>\n",
       "      <td>-0.539953</td>\n",
       "      <td>-0.605489</td>\n",
       "      <td>1.670107</td>\n",
       "    </tr>\n",
       "    <tr>\n",
       "      <td>859</td>\n",
       "      <td>0.423125</td>\n",
       "      <td>-1.027645</td>\n",
       "      <td>3.247389</td>\n",
       "      <td>-0.509525</td>\n",
       "      <td>-0.539953</td>\n",
       "      <td>1.651558</td>\n",
       "      <td>-0.598764</td>\n",
       "    </tr>\n",
       "    <tr>\n",
       "      <td>449</td>\n",
       "      <td>0.638364</td>\n",
       "      <td>0.973099</td>\n",
       "      <td>1.585639</td>\n",
       "      <td>1.962614</td>\n",
       "      <td>-0.539953</td>\n",
       "      <td>1.651558</td>\n",
       "      <td>-0.598764</td>\n",
       "    </tr>\n",
       "    <tr>\n",
       "      <td>268</td>\n",
       "      <td>0.566618</td>\n",
       "      <td>-1.027645</td>\n",
       "      <td>2.416514</td>\n",
       "      <td>-0.509525</td>\n",
       "      <td>-0.539953</td>\n",
       "      <td>-0.605489</td>\n",
       "      <td>-0.598764</td>\n",
       "    </tr>\n",
       "  </tbody>\n",
       "</table>\n",
       "</div>"
      ],
      "text/plain": [
       "          age       sex  children    smoker  region_northwest  \\\n",
       "333 -1.155300 -1.027645  1.585639 -0.509525         -0.539953   \n",
       "291  0.494871  0.973099 -0.076111  1.962614         -0.539953   \n",
       "859  0.423125 -1.027645  3.247389 -0.509525         -0.539953   \n",
       "449  0.638364  0.973099  1.585639  1.962614         -0.539953   \n",
       "268  0.566618 -1.027645  2.416514 -0.509525         -0.539953   \n",
       "\n",
       "     region_southeast  region_southwest  \n",
       "333         -0.605489          1.670107  \n",
       "291         -0.605489          1.670107  \n",
       "859          1.651558         -0.598764  \n",
       "449          1.651558         -0.598764  \n",
       "268         -0.605489         -0.598764  "
      ]
     },
     "execution_count": 37,
     "metadata": {},
     "output_type": "execute_result"
    }
   ],
   "source": [
    "X_train.head()"
   ]
  },
  {
   "cell_type": "code",
   "execution_count": 38,
   "metadata": {},
   "outputs": [
    {
     "data": {
      "text/plain": [
       "(641, 7)"
      ]
     },
     "execution_count": 38,
     "metadata": {},
     "output_type": "execute_result"
    }
   ],
   "source": [
    "X_train.shape"
   ]
  },
  {
   "cell_type": "code",
   "execution_count": 39,
   "metadata": {},
   "outputs": [
    {
     "data": {
      "text/plain": [
       "(276, 7)"
      ]
     },
     "execution_count": 39,
     "metadata": {},
     "output_type": "execute_result"
    }
   ],
   "source": [
    "X_test.shape"
   ]
  },
  {
   "cell_type": "markdown",
   "metadata": {},
   "source": [
    "The following imports the KNN Regressor and fit the model to our data. "
   ]
  },
  {
   "cell_type": "code",
   "execution_count": 40,
   "metadata": {},
   "outputs": [],
   "source": [
    "knn_reg=KNeighborsRegressor(n_neighbors=1)"
   ]
  },
  {
   "cell_type": "code",
   "execution_count": 41,
   "metadata": {},
   "outputs": [
    {
     "data": {
      "text/plain": [
       "366     3591.48000\n",
       "314    41661.60200\n",
       "939     9788.86590\n",
       "497    24180.93350\n",
       "290    10407.08585\n",
       "Name: charges, dtype: float64"
      ]
     },
     "execution_count": 41,
     "metadata": {},
     "output_type": "execute_result"
    }
   ],
   "source": [
    "y_train.head()"
   ]
  },
  {
   "cell_type": "code",
   "execution_count": 42,
   "metadata": {},
   "outputs": [
    {
     "data": {
      "text/html": [
       "<div>\n",
       "<style scoped>\n",
       "    .dataframe tbody tr th:only-of-type {\n",
       "        vertical-align: middle;\n",
       "    }\n",
       "\n",
       "    .dataframe tbody tr th {\n",
       "        vertical-align: top;\n",
       "    }\n",
       "\n",
       "    .dataframe thead th {\n",
       "        text-align: right;\n",
       "    }\n",
       "</style>\n",
       "<table border=\"1\" class=\"dataframe\">\n",
       "  <thead>\n",
       "    <tr style=\"text-align: right;\">\n",
       "      <th></th>\n",
       "      <th>age</th>\n",
       "      <th>sex</th>\n",
       "      <th>children</th>\n",
       "      <th>smoker</th>\n",
       "      <th>region_northwest</th>\n",
       "      <th>region_southeast</th>\n",
       "      <th>region_southwest</th>\n",
       "    </tr>\n",
       "  </thead>\n",
       "  <tbody>\n",
       "    <tr>\n",
       "      <td>333</td>\n",
       "      <td>-1.155300</td>\n",
       "      <td>-1.027645</td>\n",
       "      <td>1.585639</td>\n",
       "      <td>-0.509525</td>\n",
       "      <td>-0.539953</td>\n",
       "      <td>-0.605489</td>\n",
       "      <td>1.670107</td>\n",
       "    </tr>\n",
       "    <tr>\n",
       "      <td>291</td>\n",
       "      <td>0.494871</td>\n",
       "      <td>0.973099</td>\n",
       "      <td>-0.076111</td>\n",
       "      <td>1.962614</td>\n",
       "      <td>-0.539953</td>\n",
       "      <td>-0.605489</td>\n",
       "      <td>1.670107</td>\n",
       "    </tr>\n",
       "    <tr>\n",
       "      <td>859</td>\n",
       "      <td>0.423125</td>\n",
       "      <td>-1.027645</td>\n",
       "      <td>3.247389</td>\n",
       "      <td>-0.509525</td>\n",
       "      <td>-0.539953</td>\n",
       "      <td>1.651558</td>\n",
       "      <td>-0.598764</td>\n",
       "    </tr>\n",
       "    <tr>\n",
       "      <td>449</td>\n",
       "      <td>0.638364</td>\n",
       "      <td>0.973099</td>\n",
       "      <td>1.585639</td>\n",
       "      <td>1.962614</td>\n",
       "      <td>-0.539953</td>\n",
       "      <td>1.651558</td>\n",
       "      <td>-0.598764</td>\n",
       "    </tr>\n",
       "    <tr>\n",
       "      <td>268</td>\n",
       "      <td>0.566618</td>\n",
       "      <td>-1.027645</td>\n",
       "      <td>2.416514</td>\n",
       "      <td>-0.509525</td>\n",
       "      <td>-0.539953</td>\n",
       "      <td>-0.605489</td>\n",
       "      <td>-0.598764</td>\n",
       "    </tr>\n",
       "    <tr>\n",
       "      <td>698</td>\n",
       "      <td>1.284083</td>\n",
       "      <td>-1.027645</td>\n",
       "      <td>-0.906986</td>\n",
       "      <td>-0.509525</td>\n",
       "      <td>-0.539953</td>\n",
       "      <td>-0.605489</td>\n",
       "      <td>-0.598764</td>\n",
       "    </tr>\n",
       "    <tr>\n",
       "      <td>672</td>\n",
       "      <td>-1.011806</td>\n",
       "      <td>0.973099</td>\n",
       "      <td>-0.076111</td>\n",
       "      <td>-0.509525</td>\n",
       "      <td>-0.539953</td>\n",
       "      <td>1.651558</td>\n",
       "      <td>-0.598764</td>\n",
       "    </tr>\n",
       "    <tr>\n",
       "      <td>471</td>\n",
       "      <td>-0.581327</td>\n",
       "      <td>0.973099</td>\n",
       "      <td>-0.906986</td>\n",
       "      <td>-0.509525</td>\n",
       "      <td>-0.539953</td>\n",
       "      <td>-0.605489</td>\n",
       "      <td>1.670107</td>\n",
       "    </tr>\n",
       "    <tr>\n",
       "      <td>2</td>\n",
       "      <td>0.494871</td>\n",
       "      <td>-1.027645</td>\n",
       "      <td>-0.906986</td>\n",
       "      <td>-0.509525</td>\n",
       "      <td>1.852013</td>\n",
       "      <td>-0.605489</td>\n",
       "      <td>-0.598764</td>\n",
       "    </tr>\n",
       "    <tr>\n",
       "      <td>714</td>\n",
       "      <td>0.997097</td>\n",
       "      <td>-1.027645</td>\n",
       "      <td>-0.906986</td>\n",
       "      <td>1.962614</td>\n",
       "      <td>-0.539953</td>\n",
       "      <td>1.651558</td>\n",
       "      <td>-0.598764</td>\n",
       "    </tr>\n",
       "  </tbody>\n",
       "</table>\n",
       "</div>"
      ],
      "text/plain": [
       "          age       sex  children    smoker  region_northwest  \\\n",
       "333 -1.155300 -1.027645  1.585639 -0.509525         -0.539953   \n",
       "291  0.494871  0.973099 -0.076111  1.962614         -0.539953   \n",
       "859  0.423125 -1.027645  3.247389 -0.509525         -0.539953   \n",
       "449  0.638364  0.973099  1.585639  1.962614         -0.539953   \n",
       "268  0.566618 -1.027645  2.416514 -0.509525         -0.539953   \n",
       "698  1.284083 -1.027645 -0.906986 -0.509525         -0.539953   \n",
       "672 -1.011806  0.973099 -0.076111 -0.509525         -0.539953   \n",
       "471 -0.581327  0.973099 -0.906986 -0.509525         -0.539953   \n",
       "2    0.494871 -1.027645 -0.906986 -0.509525          1.852013   \n",
       "714  0.997097 -1.027645 -0.906986  1.962614         -0.539953   \n",
       "\n",
       "     region_southeast  region_southwest  \n",
       "333         -0.605489          1.670107  \n",
       "291         -0.605489          1.670107  \n",
       "859          1.651558         -0.598764  \n",
       "449          1.651558         -0.598764  \n",
       "268         -0.605489         -0.598764  \n",
       "698         -0.605489         -0.598764  \n",
       "672          1.651558         -0.598764  \n",
       "471         -0.605489          1.670107  \n",
       "2           -0.605489         -0.598764  \n",
       "714          1.651558         -0.598764  "
      ]
     },
     "execution_count": 42,
     "metadata": {},
     "output_type": "execute_result"
    }
   ],
   "source": [
    "X_train.head(10)"
   ]
  },
  {
   "cell_type": "markdown",
   "metadata": {},
   "source": [
    "This line fits the data to the model. "
   ]
  },
  {
   "cell_type": "code",
   "execution_count": 43,
   "metadata": {},
   "outputs": [
    {
     "data": {
      "text/plain": [
       "KNeighborsRegressor(algorithm='auto', leaf_size=30, metric='minkowski',\n",
       "                    metric_params=None, n_jobs=None, n_neighbors=1, p=2,\n",
       "                    weights='uniform')"
      ]
     },
     "execution_count": 43,
     "metadata": {},
     "output_type": "execute_result"
    }
   ],
   "source": [
    "knn_reg.fit(X_train,y_train)"
   ]
  },
  {
   "cell_type": "code",
   "execution_count": 44,
   "metadata": {},
   "outputs": [],
   "source": [
    "knn_pred=knn_reg.predict(X_test)"
   ]
  },
  {
   "cell_type": "code",
   "execution_count": 45,
   "metadata": {},
   "outputs": [
    {
     "data": {
      "text/plain": [
       "KNeighborsRegressor(algorithm='auto', leaf_size=30, metric='minkowski',\n",
       "                    metric_params=None, n_jobs=None, n_neighbors=1, p=2,\n",
       "                    weights='uniform')"
      ]
     },
     "execution_count": 45,
     "metadata": {},
     "output_type": "execute_result"
    }
   ],
   "source": [
    "knn_reg.fit(X_train,y_train)"
   ]
  },
  {
   "cell_type": "markdown",
   "metadata": {},
   "source": [
    "knn_pred holds all the predicted prices given the data in the test set. "
   ]
  },
  {
   "cell_type": "code",
   "execution_count": 46,
   "metadata": {},
   "outputs": [],
   "source": [
    "knn_pred=knn_reg.predict(X_test)"
   ]
  },
  {
   "cell_type": "code",
   "execution_count": 47,
   "metadata": {},
   "outputs": [
    {
     "data": {
      "text/plain": [
       "array([ 2789.0574 , 10156.7832 ,  8825.086  ,  8233.0975 ,  8027.968  ,\n",
       "        8277.523  ,  1137.011  , 20984.0936 ,  5920.1041 , 37165.1638 ,\n",
       "        4415.1588 , 16232.847  ,  8891.1395 ,  9225.2564 , 16577.7795 ,\n",
       "        7348.142  , 38245.59327, 17081.08   , 11674.13   ,  4751.07   ,\n",
       "        5312.16985, 11289.10925,  1837.2819 , 13981.85035, 15612.19335,\n",
       "        2755.02095, 18608.262  , 11842.442  , 20277.80751,  4571.41305,\n",
       "        2257.47525, 23401.30575, 13725.47184, 11454.0215 , 10564.8845 ,\n",
       "       11326.71487, 18608.262  ,  9377.9047 ,  1832.094  ,  2801.2588 ,\n",
       "       23401.30575, 48885.13561,  9880.068  ,  9048.0273 , 47291.055  ,\n",
       "        6653.7886 ,  2302.3    ,  5979.731  , 11944.59435, 26140.3603 ,\n",
       "        9377.9047 , 17081.08   , 47462.894  ,  2755.02095,  6796.86325,\n",
       "       42983.4585 , 11165.41765,  4391.652  , 47462.894  ,  9722.7695 ,\n",
       "        9877.6077 , 36085.219  , 11073.176  , 11737.84884,  2302.3    ,\n",
       "        2302.3    ,  4779.6023 , 45702.02235, 26109.32905,  1241.565  ,\n",
       "        1632.56445, 12244.531  ,  7173.35995, 11741.726  ,  4527.18295,\n",
       "        7443.64305,  5240.765  , 16796.41194,  2483.736  , 16232.847  ,\n",
       "       20277.80751,  8280.6227 ,  1632.56445, 11674.13   ,  9620.3307 ,\n",
       "        5478.0368 , 48885.13561,  1748.774  ,  9101.798  , 34838.873  ,\n",
       "        5729.0053 ,  1837.2819 , 10435.06525,  4032.2407 ,  4032.2407 ,\n",
       "        3591.48   , 16577.7795 , 10797.3362 , 15006.57945, 11299.343  ,\n",
       "        9625.92   ,  3591.48   , 14571.8908 , 10825.2537 ,  2699.56835,\n",
       "        8027.968  , 13770.0979 ,  9447.3824 ,  3591.48   ,  2710.82855,\n",
       "        1241.565  , 10338.9316 , 48517.56315,  1607.5101 ,  3556.9223 ,\n",
       "        9377.9047 ,  8891.1395 ,  6311.952  , 11763.0009 ,  1632.56445,\n",
       "       38245.59327, 17081.08   ,  4133.64165,  6710.1919 ,  8027.968  ,\n",
       "       48885.13561, 18608.262  , 35595.5898 , 10797.3362 , 16586.49771,\n",
       "        5709.1644 , 48675.5177 ,  7133.9025 ,  2026.9741 ,  3206.49135,\n",
       "        9174.13565,  3693.428  ,  4751.07   , 27941.28758,  7731.4271 ,\n",
       "        1705.6245 , 11881.9696 ,  6334.34355,  2203.47185, 16232.847  ,\n",
       "       19719.6947 ,  1719.4363 , 12644.589  ,  3176.8159 ,  8062.764  ,\n",
       "        4661.28635, 11987.1682 , 48675.5177 , 24535.69855,  6356.2707 ,\n",
       "        5469.0066 ,  5709.1644 ,  2219.4451 ,  8027.968  ,  2855.43755,\n",
       "        4058.71245, 39983.42595,  9447.3824 ,  4402.233  , 32108.66282,\n",
       "       10594.50155,  5469.0066 , 10959.33   ,  7441.053  ,  8765.249  ,\n",
       "        3579.8287 ,  7325.0482 ,  5836.5204 , 22395.74424, 20234.85475,\n",
       "        6112.35295, 12323.936  ,  9877.6077 ,  1832.094  ,  7624.63   ,\n",
       "       11356.6609 ,  5148.5526 , 24535.69855,  7727.2532 , 48885.13561,\n",
       "       13725.47184, 62592.87309,  3659.346  ,  9048.0273 ,  7986.47525,\n",
       "        3591.48   , 26140.3603 , 12323.936  ,  2304.0022 , 12475.3513 ,\n",
       "       13635.6379 ,  5312.16985,  5469.0066 , 10942.13205,  2473.3341 ,\n",
       "        3070.8087 ,  8310.83915,  2203.47185,  1241.565  ,  4751.07   ,\n",
       "       39611.7577 , 17352.6803 ,  8125.7845 ,  2801.2588 ,  8457.818  ,\n",
       "       39983.42595,  8765.249  ,  5240.765  , 17178.6824 , 26140.3603 ,\n",
       "        4906.40965, 11987.1682 ,  9101.798  ,  2755.02095,  2154.361  ,\n",
       "        6123.5688 ,  9225.2564 ,  3490.5491 ,  9620.3307 ,  3206.49135,\n",
       "        7173.35995,  6250.435  , 12268.63225, 13217.0945 ,  6474.013  ,\n",
       "        7731.4271 , 10602.385  , 10602.385  , 14451.83515,  5240.765  ,\n",
       "        4661.28635,  3987.926  , 47462.894  , 19442.3535 , 27533.9129 ,\n",
       "       22412.6485 ,  9617.66245, 13725.47184,  1607.5101 , 43753.33705,\n",
       "        7624.63   , 12323.936  ,  8027.968  , 13844.7972 ,  1607.5101 ,\n",
       "       22395.74424, 39611.7577 , 23401.30575, 31620.00106,  2203.47185,\n",
       "       11264.541  , 17468.9839 , 13981.85035,  9617.66245,  8233.0975 ,\n",
       "        7173.35995,  5267.81815, 36197.699  ,  6746.7425 ,  5375.038  ,\n",
       "       10942.13205,  2710.82855,  3176.8159 ,  4058.71245, 42983.4585 ,\n",
       "       24869.8368 , 11488.31695, 16586.49771,  3070.8087 ,  7448.40395,\n",
       "        7147.4728 ])"
      ]
     },
     "execution_count": 47,
     "metadata": {},
     "output_type": "execute_result"
    }
   ],
   "source": [
    "knn_pred"
   ]
  },
  {
   "cell_type": "code",
   "execution_count": 48,
   "metadata": {},
   "outputs": [
    {
     "data": {
      "text/html": [
       "<div>\n",
       "<style scoped>\n",
       "    .dataframe tbody tr th:only-of-type {\n",
       "        vertical-align: middle;\n",
       "    }\n",
       "\n",
       "    .dataframe tbody tr th {\n",
       "        vertical-align: top;\n",
       "    }\n",
       "\n",
       "    .dataframe thead th {\n",
       "        text-align: right;\n",
       "    }\n",
       "</style>\n",
       "<table border=\"1\" class=\"dataframe\">\n",
       "  <thead>\n",
       "    <tr style=\"text-align: right;\">\n",
       "      <th></th>\n",
       "      <th>age</th>\n",
       "      <th>sex</th>\n",
       "      <th>children</th>\n",
       "      <th>smoker</th>\n",
       "      <th>region_northwest</th>\n",
       "      <th>region_southeast</th>\n",
       "      <th>region_southwest</th>\n",
       "    </tr>\n",
       "  </thead>\n",
       "  <tbody>\n",
       "    <tr>\n",
       "      <td>416</td>\n",
       "      <td>-1.155300</td>\n",
       "      <td>-1.027645</td>\n",
       "      <td>-0.076111</td>\n",
       "      <td>-0.509525</td>\n",
       "      <td>1.852013</td>\n",
       "      <td>-0.605489</td>\n",
       "      <td>-0.598764</td>\n",
       "    </tr>\n",
       "    <tr>\n",
       "      <td>325</td>\n",
       "      <td>0.781858</td>\n",
       "      <td>0.973099</td>\n",
       "      <td>0.754764</td>\n",
       "      <td>-0.509525</td>\n",
       "      <td>1.852013</td>\n",
       "      <td>-0.605489</td>\n",
       "      <td>-0.598764</td>\n",
       "    </tr>\n",
       "    <tr>\n",
       "      <td>267</td>\n",
       "      <td>0.423125</td>\n",
       "      <td>0.973099</td>\n",
       "      <td>0.754764</td>\n",
       "      <td>-0.509525</td>\n",
       "      <td>-0.539953</td>\n",
       "      <td>-0.605489</td>\n",
       "      <td>1.670107</td>\n",
       "    </tr>\n",
       "    <tr>\n",
       "      <td>241</td>\n",
       "      <td>0.566618</td>\n",
       "      <td>0.973099</td>\n",
       "      <td>-0.076111</td>\n",
       "      <td>-0.509525</td>\n",
       "      <td>-0.539953</td>\n",
       "      <td>1.651558</td>\n",
       "      <td>-0.598764</td>\n",
       "    </tr>\n",
       "    <tr>\n",
       "      <td>874</td>\n",
       "      <td>0.207885</td>\n",
       "      <td>-1.027645</td>\n",
       "      <td>0.754764</td>\n",
       "      <td>-0.509525</td>\n",
       "      <td>-0.539953</td>\n",
       "      <td>-0.605489</td>\n",
       "      <td>1.670107</td>\n",
       "    </tr>\n",
       "  </tbody>\n",
       "</table>\n",
       "</div>"
      ],
      "text/plain": [
       "          age       sex  children    smoker  region_northwest  \\\n",
       "416 -1.155300 -1.027645 -0.076111 -0.509525          1.852013   \n",
       "325  0.781858  0.973099  0.754764 -0.509525          1.852013   \n",
       "267  0.423125  0.973099  0.754764 -0.509525         -0.539953   \n",
       "241  0.566618  0.973099 -0.076111 -0.509525         -0.539953   \n",
       "874  0.207885 -1.027645  0.754764 -0.509525         -0.539953   \n",
       "\n",
       "     region_southeast  region_southwest  \n",
       "416         -0.605489         -0.598764  \n",
       "325         -0.605489         -0.598764  \n",
       "267         -0.605489          1.670107  \n",
       "241          1.651558         -0.598764  \n",
       "874         -0.605489          1.670107  "
      ]
     },
     "execution_count": 48,
     "metadata": {},
     "output_type": "execute_result"
    }
   ],
   "source": [
    "X_test.head()"
   ]
  },
  {
   "cell_type": "markdown",
   "metadata": {},
   "source": [
    "This scatter plot helps one to see the correlation between the algorithm and data. If the data is close to a line then the algorithm is good. "
   ]
  },
  {
   "cell_type": "code",
   "execution_count": 49,
   "metadata": {},
   "outputs": [
    {
     "data": {
      "text/plain": [
       "Text(0, 0.5, 'y_test')"
      ]
     },
     "execution_count": 49,
     "metadata": {},
     "output_type": "execute_result"
    },
    {
     "data": {
      "image/png": "[encoded data removed]",
      "text/plain": [
       "<Figure size 576x432 with 1 Axes>"
      ]
     },
     "metadata": {
      "needs_background": "light"
     },
     "output_type": "display_data"
    }
   ],
   "source": [
    "plt.figure(figsize=(8,6))\n",
    "plt.scatter(knn_pred,y_test)\n",
    "plt.xlabel('knn_pred')\n",
    "plt.ylabel('y_test')"
   ]
  },
  {
   "cell_type": "markdown",
   "metadata": {},
   "source": [
    "This shows the amount of the explained variance in the response variable that has been accounted for."
   ]
  },
  {
   "cell_type": "code",
   "execution_count": 50,
   "metadata": {},
   "outputs": [],
   "source": [
    "from sklearn.metrics import r2_score, mean_squared_error"
   ]
  },
  {
   "cell_type": "code",
   "execution_count": 51,
   "metadata": {},
   "outputs": [],
   "source": [
    "knn_r2=r2_score(y_test,knn_pred)"
   ]
  },
  {
   "cell_type": "code",
   "execution_count": 52,
   "metadata": {},
   "outputs": [
    {
     "data": {
      "text/plain": [
       "0.43546270353214633"
      ]
     },
     "execution_count": 52,
     "metadata": {},
     "output_type": "execute_result"
    }
   ],
   "source": [
    "knn_r2"
   ]
  },
  {
   "cell_type": "code",
   "execution_count": 53,
   "metadata": {},
   "outputs": [],
   "source": [
    "#mse=mean_squared_error(y_test,knn_pred)"
   ]
  },
  {
   "cell_type": "code",
   "execution_count": 54,
   "metadata": {
    "scrolled": true
   },
   "outputs": [],
   "source": [
    "#mse"
   ]
  },
  {
   "cell_type": "markdown",
   "metadata": {},
   "source": [
    "<hr style=\"height:3px;border:none;color:#333;background-color:#333;\" />"
   ]
  },
  {
   "cell_type": "markdown",
   "metadata": {},
   "source": [
    "<h3> Linear Regression </h3>"
   ]
  },
  {
   "cell_type": "markdown",
   "metadata": {},
   "source": [
    "Below, is a scatterplot along with the line of best fit $\\hat{y}$."
   ]
  },
  {
   "cell_type": "code",
   "execution_count": 55,
   "metadata": {},
   "outputs": [
    {
     "data": {
      "image/png": "[encoded data removed]",
      "text/plain": [
       "<Figure size 720x576 with 1 Axes>"
      ]
     },
     "metadata": {},
     "output_type": "display_data"
    }
   ],
   "source": [
    "sns.set_style('whitegrid')\n",
    "plt.figure(figsize=(10,8))\n",
    "sns.regplot(x='age',y='charges',data=df,scatter_kws={'s':6},line_kws={'color':'r'},ci=95)\n",
    "plt.xlabel(\"sex\",fontsize=14)\n",
    "plt.ylabel('charges',fontsize=14)\n",
    "plt.show()"
   ]
  },
  {
   "cell_type": "markdown",
   "metadata": {},
   "source": [
    "This code imports Linear Regression model."
   ]
  },
  {
   "cell_type": "code",
   "execution_count": 56,
   "metadata": {},
   "outputs": [],
   "source": [
    "from sklearn.linear_model import LinearRegression"
   ]
  },
  {
   "cell_type": "markdown",
   "metadata": {},
   "source": [
    "This instansiates and fits it to our model."
   ]
  },
  {
   "cell_type": "code",
   "execution_count": 57,
   "metadata": {},
   "outputs": [],
   "source": [
    "lg=LinearRegression()"
   ]
  },
  {
   "cell_type": "code",
   "execution_count": 58,
   "metadata": {},
   "outputs": [
    {
     "data": {
      "text/plain": [
       "LinearRegression(copy_X=True, fit_intercept=True, n_jobs=None, normalize=False)"
      ]
     },
     "execution_count": 58,
     "metadata": {},
     "output_type": "execute_result"
    }
   ],
   "source": [
    "lg.fit(X_train,y_train)"
   ]
  },
  {
   "cell_type": "markdown",
   "metadata": {},
   "source": [
    "This line extracts the estimated coefficients."
   ]
  },
  {
   "cell_type": "code",
   "execution_count": 59,
   "metadata": {},
   "outputs": [
    {
     "data": {
      "text/plain": [
       "13296.780434310946"
      ]
     },
     "execution_count": 59,
     "metadata": {},
     "output_type": "execute_result"
    }
   ],
   "source": [
    "lg.intercept_"
   ]
  },
  {
   "cell_type": "code",
   "execution_count": 60,
   "metadata": {},
   "outputs": [
    {
     "data": {
      "text/plain": [
       "array([3619.3565747 , -122.4978165 ,  529.66729705, 9863.70302778,\n",
       "       -542.71856937,  -62.81019424, -483.49863705])"
      ]
     },
     "execution_count": 60,
     "metadata": {},
     "output_type": "execute_result"
    }
   ],
   "source": [
    "lg.coef_"
   ]
  },
  {
   "cell_type": "markdown",
   "metadata": {},
   "source": [
    "These lines create a dataframe named df_coef that contains one column with the coefficents and the rows are the features of the dataset. "
   ]
  },
  {
   "cell_type": "code",
   "execution_count": 61,
   "metadata": {},
   "outputs": [],
   "source": [
    "df_coef=pd.DataFrame(lg.coef_,index=X.columns,columns=['Coefficients'])"
   ]
  },
  {
   "cell_type": "code",
   "execution_count": 62,
   "metadata": {},
   "outputs": [],
   "source": [
    "df_coef.loc['Intercept','Coefficients']=lg.intercept_"
   ]
  },
  {
   "cell_type": "code",
   "execution_count": 63,
   "metadata": {},
   "outputs": [
    {
     "data": {
      "text/html": [
       "<div>\n",
       "<style scoped>\n",
       "    .dataframe tbody tr th:only-of-type {\n",
       "        vertical-align: middle;\n",
       "    }\n",
       "\n",
       "    .dataframe tbody tr th {\n",
       "        vertical-align: top;\n",
       "    }\n",
       "\n",
       "    .dataframe thead th {\n",
       "        text-align: right;\n",
       "    }\n",
       "</style>\n",
       "<table border=\"1\" class=\"dataframe\">\n",
       "  <thead>\n",
       "    <tr style=\"text-align: right;\">\n",
       "      <th></th>\n",
       "      <th>Coefficients</th>\n",
       "    </tr>\n",
       "  </thead>\n",
       "  <tbody>\n",
       "    <tr>\n",
       "      <td>age</td>\n",
       "      <td>3619.356575</td>\n",
       "    </tr>\n",
       "    <tr>\n",
       "      <td>sex</td>\n",
       "      <td>-122.497816</td>\n",
       "    </tr>\n",
       "    <tr>\n",
       "      <td>children</td>\n",
       "      <td>529.667297</td>\n",
       "    </tr>\n",
       "    <tr>\n",
       "      <td>smoker</td>\n",
       "      <td>9863.703028</td>\n",
       "    </tr>\n",
       "    <tr>\n",
       "      <td>region_northwest</td>\n",
       "      <td>-542.718569</td>\n",
       "    </tr>\n",
       "    <tr>\n",
       "      <td>region_southeast</td>\n",
       "      <td>-62.810194</td>\n",
       "    </tr>\n",
       "    <tr>\n",
       "      <td>region_southwest</td>\n",
       "      <td>-483.498637</td>\n",
       "    </tr>\n",
       "    <tr>\n",
       "      <td>Intercept</td>\n",
       "      <td>13296.780434</td>\n",
       "    </tr>\n",
       "  </tbody>\n",
       "</table>\n",
       "</div>"
      ],
      "text/plain": [
       "                  Coefficients\n",
       "age                3619.356575\n",
       "sex                -122.497816\n",
       "children            529.667297\n",
       "smoker             9863.703028\n",
       "region_northwest   -542.718569\n",
       "region_southeast    -62.810194\n",
       "region_southwest   -483.498637\n",
       "Intercept         13296.780434"
      ]
     },
     "execution_count": 63,
     "metadata": {},
     "output_type": "execute_result"
    }
   ],
   "source": [
    "df_coef"
   ]
  },
  {
   "cell_type": "markdown",
   "metadata": {},
   "source": [
    "These coefficents represent the effects each variable had on the model. "
   ]
  },
  {
   "cell_type": "code",
   "execution_count": 64,
   "metadata": {},
   "outputs": [],
   "source": [
    "lg_pred=lg.predict(X_test)"
   ]
  },
  {
   "cell_type": "markdown",
   "metadata": {},
   "source": [
    "The scatterplot of y_test vs. lg helps see how the model is performing."
   ]
  },
  {
   "cell_type": "code",
   "execution_count": 65,
   "metadata": {},
   "outputs": [
    {
     "data": {
      "text/plain": [
       "<matplotlib.axes._subplots.AxesSubplot at 0x202b2346f88>"
      ]
     },
     "execution_count": 65,
     "metadata": {},
     "output_type": "execute_result"
    },
    {
     "data": {
      "image/png": "[encoded data removed]",
      "text/plain": [
       "<Figure size 432x288 with 1 Axes>"
      ]
     },
     "metadata": {},
     "output_type": "display_data"
    }
   ],
   "source": [
    "sns.scatterplot(y_test,lg_pred)"
   ]
  },
  {
   "cell_type": "markdown",
   "metadata": {},
   "source": [
    "These lines compute the quantitative metrics of R2 and MSE."
   ]
  },
  {
   "cell_type": "code",
   "execution_count": 66,
   "metadata": {},
   "outputs": [],
   "source": [
    "from sklearn.metrics import r2_score, mean_squared_error"
   ]
  },
  {
   "cell_type": "code",
   "execution_count": 67,
   "metadata": {},
   "outputs": [],
   "source": [
    "lg_r2=r2_score(y_test,lg_pred)\n",
    "mse=mean_squared_error(y_test,lg_pred)"
   ]
  },
  {
   "cell_type": "code",
   "execution_count": 68,
   "metadata": {},
   "outputs": [
    {
     "data": {
      "text/plain": [
       "0.7521067492185949"
      ]
     },
     "execution_count": 68,
     "metadata": {},
     "output_type": "execute_result"
    }
   ],
   "source": [
    "lg_r2"
   ]
  },
  {
   "cell_type": "code",
   "execution_count": 69,
   "metadata": {},
   "outputs": [
    {
     "data": {
      "text/plain": [
       "34538939.43678802"
      ]
     },
     "execution_count": 69,
     "metadata": {},
     "output_type": "execute_result"
    }
   ],
   "source": [
    "mse"
   ]
  },
  {
   "cell_type": "code",
   "execution_count": 70,
   "metadata": {},
   "outputs": [
    {
     "data": {
      "text/plain": [
       "<matplotlib.axes._subplots.AxesSubplot at 0x202b133fec8>"
      ]
     },
     "execution_count": 70,
     "metadata": {},
     "output_type": "execute_result"
    },
    {
     "data": {
      "image/png": "[encoded data removed]",
      "text/plain": [
       "<Figure size 576x432 with 1 Axes>"
      ]
     },
     "metadata": {},
     "output_type": "display_data"
    }
   ],
   "source": [
    "plt.figure(figsize=(8,6))\n",
    "sns.distplot((y_test-lg_pred), bins=25)"
   ]
  },
  {
   "cell_type": "markdown",
   "metadata": {},
   "source": [
    "<hr style=\"height:3px;border:none;color:#333;background-color:#333;\" />"
   ]
  },
  {
   "cell_type": "markdown",
   "metadata": {},
   "source": [
    "<h3> Data Prediction </h3>"
   ]
  },
  {
   "cell_type": "code",
   "execution_count": 73,
   "metadata": {},
   "outputs": [],
   "source": [
    "test=pd.read_csv('insurance_test.csv')"
   ]
  },
  {
   "cell_type": "code",
   "execution_count": 74,
   "metadata": {
    "scrolled": true
   },
   "outputs": [
    {
     "data": {
      "text/html": [
       "<div>\n",
       "<style scoped>\n",
       "    .dataframe tbody tr th:only-of-type {\n",
       "        vertical-align: middle;\n",
       "    }\n",
       "\n",
       "    .dataframe tbody tr th {\n",
       "        vertical-align: top;\n",
       "    }\n",
       "\n",
       "    .dataframe thead th {\n",
       "        text-align: right;\n",
       "    }\n",
       "</style>\n",
       "<table border=\"1\" class=\"dataframe\">\n",
       "  <thead>\n",
       "    <tr style=\"text-align: right;\">\n",
       "      <th></th>\n",
       "      <th>age</th>\n",
       "      <th>sex</th>\n",
       "      <th>bmi</th>\n",
       "      <th>children</th>\n",
       "      <th>smoker</th>\n",
       "      <th>region</th>\n",
       "    </tr>\n",
       "  </thead>\n",
       "  <tbody>\n",
       "    <tr>\n",
       "      <td>0</td>\n",
       "      <td>59</td>\n",
       "      <td>male</td>\n",
       "      <td>26.400</td>\n",
       "      <td>0</td>\n",
       "      <td>no</td>\n",
       "      <td>southeast</td>\n",
       "    </tr>\n",
       "    <tr>\n",
       "      <td>1</td>\n",
       "      <td>59</td>\n",
       "      <td>female</td>\n",
       "      <td>31.350</td>\n",
       "      <td>0</td>\n",
       "      <td>no</td>\n",
       "      <td>northwest</td>\n",
       "    </tr>\n",
       "    <tr>\n",
       "      <td>2</td>\n",
       "      <td>52</td>\n",
       "      <td>female</td>\n",
       "      <td>37.400</td>\n",
       "      <td>0</td>\n",
       "      <td>no</td>\n",
       "      <td>southwest</td>\n",
       "    </tr>\n",
       "    <tr>\n",
       "      <td>3</td>\n",
       "      <td>46</td>\n",
       "      <td>male</td>\n",
       "      <td>33.345</td>\n",
       "      <td>1</td>\n",
       "      <td>no</td>\n",
       "      <td>northeast</td>\n",
       "    </tr>\n",
       "    <tr>\n",
       "      <td>4</td>\n",
       "      <td>19</td>\n",
       "      <td>female</td>\n",
       "      <td>28.900</td>\n",
       "      <td>0</td>\n",
       "      <td>no</td>\n",
       "      <td>southwest</td>\n",
       "    </tr>\n",
       "  </tbody>\n",
       "</table>\n",
       "</div>"
      ],
      "text/plain": [
       "   age     sex     bmi  children smoker     region\n",
       "0   59    male  26.400         0     no  southeast\n",
       "1   59  female  31.350         0     no  northwest\n",
       "2   52  female  37.400         0     no  southwest\n",
       "3   46    male  33.345         1     no  northeast\n",
       "4   19  female  28.900         0     no  southwest"
      ]
     },
     "execution_count": 74,
     "metadata": {},
     "output_type": "execute_result"
    }
   ],
   "source": [
    "test.head()"
   ]
  },
  {
   "cell_type": "code",
   "execution_count": 77,
   "metadata": {},
   "outputs": [],
   "source": [
    "X_new=test"
   ]
  },
  {
   "cell_type": "code",
   "execution_count": 78,
   "metadata": {},
   "outputs": [
    {
     "data": {
      "text/html": [
       "<div>\n",
       "<style scoped>\n",
       "    .dataframe tbody tr th:only-of-type {\n",
       "        vertical-align: middle;\n",
       "    }\n",
       "\n",
       "    .dataframe tbody tr th {\n",
       "        vertical-align: top;\n",
       "    }\n",
       "\n",
       "    .dataframe thead th {\n",
       "        text-align: right;\n",
       "    }\n",
       "</style>\n",
       "<table border=\"1\" class=\"dataframe\">\n",
       "  <thead>\n",
       "    <tr style=\"text-align: right;\">\n",
       "      <th></th>\n",
       "      <th>age</th>\n",
       "      <th>sex</th>\n",
       "      <th>bmi</th>\n",
       "      <th>children</th>\n",
       "      <th>smoker</th>\n",
       "      <th>region</th>\n",
       "    </tr>\n",
       "  </thead>\n",
       "  <tbody>\n",
       "    <tr>\n",
       "      <td>0</td>\n",
       "      <td>59</td>\n",
       "      <td>male</td>\n",
       "      <td>26.400</td>\n",
       "      <td>0</td>\n",
       "      <td>no</td>\n",
       "      <td>southeast</td>\n",
       "    </tr>\n",
       "    <tr>\n",
       "      <td>1</td>\n",
       "      <td>59</td>\n",
       "      <td>female</td>\n",
       "      <td>31.350</td>\n",
       "      <td>0</td>\n",
       "      <td>no</td>\n",
       "      <td>northwest</td>\n",
       "    </tr>\n",
       "    <tr>\n",
       "      <td>2</td>\n",
       "      <td>52</td>\n",
       "      <td>female</td>\n",
       "      <td>37.400</td>\n",
       "      <td>0</td>\n",
       "      <td>no</td>\n",
       "      <td>southwest</td>\n",
       "    </tr>\n",
       "    <tr>\n",
       "      <td>3</td>\n",
       "      <td>46</td>\n",
       "      <td>male</td>\n",
       "      <td>33.345</td>\n",
       "      <td>1</td>\n",
       "      <td>no</td>\n",
       "      <td>northeast</td>\n",
       "    </tr>\n",
       "    <tr>\n",
       "      <td>4</td>\n",
       "      <td>19</td>\n",
       "      <td>female</td>\n",
       "      <td>28.900</td>\n",
       "      <td>0</td>\n",
       "      <td>no</td>\n",
       "      <td>southwest</td>\n",
       "    </tr>\n",
       "  </tbody>\n",
       "</table>\n",
       "</div>"
      ],
      "text/plain": [
       "   age     sex     bmi  children smoker     region\n",
       "0   59    male  26.400         0     no  southeast\n",
       "1   59  female  31.350         0     no  northwest\n",
       "2   52  female  37.400         0     no  southwest\n",
       "3   46    male  33.345         1     no  northeast\n",
       "4   19  female  28.900         0     no  southwest"
      ]
     },
     "execution_count": 78,
     "metadata": {},
     "output_type": "execute_result"
    }
   ],
   "source": [
    "X_new.head()"
   ]
  },
  {
   "cell_type": "markdown",
   "metadata": {},
   "source": [
    "Now I am cleaning up the test data in the same way I had to for the training data. This means that if there is missing data in the test file, I will not be able to predict a charge for that person."
   ]
  },
  {
   "cell_type": "code",
   "execution_count": 81,
   "metadata": {},
   "outputs": [],
   "source": [
    "df1=test.copy()\n",
    "df1['sex']=train['sex'].apply(lambda x:1 if x=='female' else 0)"
   ]
  },
  {
   "cell_type": "code",
   "execution_count": 82,
   "metadata": {},
   "outputs": [],
   "source": [
    "df2=df1.copy()\n",
    "df2['smoker']=df1['smoker'].apply(lambda x:1 if x=='yes' else 0)"
   ]
  },
  {
   "cell_type": "markdown",
   "metadata": {},
   "source": [
    "Here is the data after I change some of the features. \n",
    "I notice that there are 4 different options for region so I cannot use the apply method. Instead, I create new columns true or false columns for each region. True is 1 and False is 0. "
   ]
  },
  {
   "cell_type": "code",
   "execution_count": 83,
   "metadata": {},
   "outputs": [
    {
     "data": {
      "text/html": [
       "<div>\n",
       "<style scoped>\n",
       "    .dataframe tbody tr th:only-of-type {\n",
       "        vertical-align: middle;\n",
       "    }\n",
       "\n",
       "    .dataframe tbody tr th {\n",
       "        vertical-align: top;\n",
       "    }\n",
       "\n",
       "    .dataframe thead th {\n",
       "        text-align: right;\n",
       "    }\n",
       "</style>\n",
       "<table border=\"1\" class=\"dataframe\">\n",
       "  <thead>\n",
       "    <tr style=\"text-align: right;\">\n",
       "      <th></th>\n",
       "      <th>age</th>\n",
       "      <th>sex</th>\n",
       "      <th>bmi</th>\n",
       "      <th>children</th>\n",
       "      <th>smoker</th>\n",
       "      <th>region</th>\n",
       "    </tr>\n",
       "  </thead>\n",
       "  <tbody>\n",
       "    <tr>\n",
       "      <td>0</td>\n",
       "      <td>59</td>\n",
       "      <td>1</td>\n",
       "      <td>26.400</td>\n",
       "      <td>0</td>\n",
       "      <td>0</td>\n",
       "      <td>southeast</td>\n",
       "    </tr>\n",
       "    <tr>\n",
       "      <td>1</td>\n",
       "      <td>59</td>\n",
       "      <td>0</td>\n",
       "      <td>31.350</td>\n",
       "      <td>0</td>\n",
       "      <td>0</td>\n",
       "      <td>northwest</td>\n",
       "    </tr>\n",
       "    <tr>\n",
       "      <td>2</td>\n",
       "      <td>52</td>\n",
       "      <td>0</td>\n",
       "      <td>37.400</td>\n",
       "      <td>0</td>\n",
       "      <td>0</td>\n",
       "      <td>southwest</td>\n",
       "    </tr>\n",
       "    <tr>\n",
       "      <td>3</td>\n",
       "      <td>46</td>\n",
       "      <td>1</td>\n",
       "      <td>33.345</td>\n",
       "      <td>1</td>\n",
       "      <td>0</td>\n",
       "      <td>northeast</td>\n",
       "    </tr>\n",
       "    <tr>\n",
       "      <td>4</td>\n",
       "      <td>19</td>\n",
       "      <td>1</td>\n",
       "      <td>28.900</td>\n",
       "      <td>0</td>\n",
       "      <td>0</td>\n",
       "      <td>southwest</td>\n",
       "    </tr>\n",
       "  </tbody>\n",
       "</table>\n",
       "</div>"
      ],
      "text/plain": [
       "   age  sex     bmi  children  smoker     region\n",
       "0   59    1  26.400         0       0  southeast\n",
       "1   59    0  31.350         0       0  northwest\n",
       "2   52    0  37.400         0       0  southwest\n",
       "3   46    1  33.345         1       0  northeast\n",
       "4   19    1  28.900         0       0  southwest"
      ]
     },
     "execution_count": 83,
     "metadata": {},
     "output_type": "execute_result"
    }
   ],
   "source": [
    "df2.head()"
   ]
  },
  {
   "cell_type": "code",
   "execution_count": 84,
   "metadata": {},
   "outputs": [],
   "source": [
    "df=df2.copy()"
   ]
  },
  {
   "cell_type": "code",
   "execution_count": 85,
   "metadata": {
    "scrolled": true
   },
   "outputs": [],
   "source": [
    "df=pd.get_dummies(df,'region')"
   ]
  },
  {
   "cell_type": "code",
   "execution_count": 86,
   "metadata": {},
   "outputs": [
    {
     "data": {
      "text/html": [
       "<div>\n",
       "<style scoped>\n",
       "    .dataframe tbody tr th:only-of-type {\n",
       "        vertical-align: middle;\n",
       "    }\n",
       "\n",
       "    .dataframe tbody tr th {\n",
       "        vertical-align: top;\n",
       "    }\n",
       "\n",
       "    .dataframe thead th {\n",
       "        text-align: right;\n",
       "    }\n",
       "</style>\n",
       "<table border=\"1\" class=\"dataframe\">\n",
       "  <thead>\n",
       "    <tr style=\"text-align: right;\">\n",
       "      <th></th>\n",
       "      <th>age</th>\n",
       "      <th>sex</th>\n",
       "      <th>bmi</th>\n",
       "      <th>children</th>\n",
       "      <th>smoker</th>\n",
       "      <th>region_northeast</th>\n",
       "      <th>region_northwest</th>\n",
       "      <th>region_southeast</th>\n",
       "      <th>region_southwest</th>\n",
       "    </tr>\n",
       "  </thead>\n",
       "  <tbody>\n",
       "    <tr>\n",
       "      <td>0</td>\n",
       "      <td>59</td>\n",
       "      <td>1</td>\n",
       "      <td>26.400</td>\n",
       "      <td>0</td>\n",
       "      <td>0</td>\n",
       "      <td>0</td>\n",
       "      <td>0</td>\n",
       "      <td>1</td>\n",
       "      <td>0</td>\n",
       "    </tr>\n",
       "    <tr>\n",
       "      <td>1</td>\n",
       "      <td>59</td>\n",
       "      <td>0</td>\n",
       "      <td>31.350</td>\n",
       "      <td>0</td>\n",
       "      <td>0</td>\n",
       "      <td>0</td>\n",
       "      <td>1</td>\n",
       "      <td>0</td>\n",
       "      <td>0</td>\n",
       "    </tr>\n",
       "    <tr>\n",
       "      <td>2</td>\n",
       "      <td>52</td>\n",
       "      <td>0</td>\n",
       "      <td>37.400</td>\n",
       "      <td>0</td>\n",
       "      <td>0</td>\n",
       "      <td>0</td>\n",
       "      <td>0</td>\n",
       "      <td>0</td>\n",
       "      <td>1</td>\n",
       "    </tr>\n",
       "    <tr>\n",
       "      <td>3</td>\n",
       "      <td>46</td>\n",
       "      <td>1</td>\n",
       "      <td>33.345</td>\n",
       "      <td>1</td>\n",
       "      <td>0</td>\n",
       "      <td>1</td>\n",
       "      <td>0</td>\n",
       "      <td>0</td>\n",
       "      <td>0</td>\n",
       "    </tr>\n",
       "    <tr>\n",
       "      <td>4</td>\n",
       "      <td>19</td>\n",
       "      <td>1</td>\n",
       "      <td>28.900</td>\n",
       "      <td>0</td>\n",
       "      <td>0</td>\n",
       "      <td>0</td>\n",
       "      <td>0</td>\n",
       "      <td>0</td>\n",
       "      <td>1</td>\n",
       "    </tr>\n",
       "  </tbody>\n",
       "</table>\n",
       "</div>"
      ],
      "text/plain": [
       "   age  sex     bmi  children  smoker  region_northeast  region_northwest  \\\n",
       "0   59    1  26.400         0       0                 0                 0   \n",
       "1   59    0  31.350         0       0                 0                 1   \n",
       "2   52    0  37.400         0       0                 0                 0   \n",
       "3   46    1  33.345         1       0                 1                 0   \n",
       "4   19    1  28.900         0       0                 0                 0   \n",
       "\n",
       "   region_southeast  region_southwest  \n",
       "0                 1                 0  \n",
       "1                 0                 0  \n",
       "2                 0                 1  \n",
       "3                 0                 0  \n",
       "4                 0                 1  "
      ]
     },
     "execution_count": 86,
     "metadata": {},
     "output_type": "execute_result"
    }
   ],
   "source": [
    "df.head()"
   ]
  },
  {
   "cell_type": "markdown",
   "metadata": {},
   "source": [
    "There is no missing data. No action required."
   ]
  },
  {
   "cell_type": "code",
   "execution_count": 87,
   "metadata": {
    "scrolled": false
   },
   "outputs": [
    {
     "data": {
      "text/plain": [
       "age                 0\n",
       "sex                 0\n",
       "bmi                 0\n",
       "children            0\n",
       "smoker              0\n",
       "region_northeast    0\n",
       "region_northwest    0\n",
       "region_southeast    0\n",
       "region_southwest    0\n",
       "dtype: int64"
      ]
     },
     "execution_count": 87,
     "metadata": {},
     "output_type": "execute_result"
    }
   ],
   "source": [
    "df.isnull().sum()"
   ]
  },
  {
   "cell_type": "code",
   "execution_count": 89,
   "metadata": {},
   "outputs": [],
   "source": [
    "df=df.reindex(columns=['age','sex','children','smoker','region_northwest','region_southeast','region_southwest'])"
   ]
  },
  {
   "cell_type": "code",
   "execution_count": 90,
   "metadata": {},
   "outputs": [
    {
     "data": {
      "text/html": [
       "<div>\n",
       "<style scoped>\n",
       "    .dataframe tbody tr th:only-of-type {\n",
       "        vertical-align: middle;\n",
       "    }\n",
       "\n",
       "    .dataframe tbody tr th {\n",
       "        vertical-align: top;\n",
       "    }\n",
       "\n",
       "    .dataframe thead th {\n",
       "        text-align: right;\n",
       "    }\n",
       "</style>\n",
       "<table border=\"1\" class=\"dataframe\">\n",
       "  <thead>\n",
       "    <tr style=\"text-align: right;\">\n",
       "      <th></th>\n",
       "      <th>age</th>\n",
       "      <th>sex</th>\n",
       "      <th>children</th>\n",
       "      <th>smoker</th>\n",
       "      <th>region_northwest</th>\n",
       "      <th>region_southeast</th>\n",
       "      <th>region_southwest</th>\n",
       "    </tr>\n",
       "  </thead>\n",
       "  <tbody>\n",
       "    <tr>\n",
       "      <td>0</td>\n",
       "      <td>59</td>\n",
       "      <td>1</td>\n",
       "      <td>0</td>\n",
       "      <td>0</td>\n",
       "      <td>0</td>\n",
       "      <td>1</td>\n",
       "      <td>0</td>\n",
       "    </tr>\n",
       "    <tr>\n",
       "      <td>1</td>\n",
       "      <td>59</td>\n",
       "      <td>0</td>\n",
       "      <td>0</td>\n",
       "      <td>0</td>\n",
       "      <td>1</td>\n",
       "      <td>0</td>\n",
       "      <td>0</td>\n",
       "    </tr>\n",
       "    <tr>\n",
       "      <td>2</td>\n",
       "      <td>52</td>\n",
       "      <td>0</td>\n",
       "      <td>0</td>\n",
       "      <td>0</td>\n",
       "      <td>0</td>\n",
       "      <td>0</td>\n",
       "      <td>1</td>\n",
       "    </tr>\n",
       "    <tr>\n",
       "      <td>3</td>\n",
       "      <td>46</td>\n",
       "      <td>1</td>\n",
       "      <td>1</td>\n",
       "      <td>0</td>\n",
       "      <td>0</td>\n",
       "      <td>0</td>\n",
       "      <td>0</td>\n",
       "    </tr>\n",
       "    <tr>\n",
       "      <td>4</td>\n",
       "      <td>19</td>\n",
       "      <td>1</td>\n",
       "      <td>0</td>\n",
       "      <td>0</td>\n",
       "      <td>0</td>\n",
       "      <td>0</td>\n",
       "      <td>1</td>\n",
       "    </tr>\n",
       "  </tbody>\n",
       "</table>\n",
       "</div>"
      ],
      "text/plain": [
       "   age  sex  children  smoker  region_northwest  region_southeast  \\\n",
       "0   59    1         0       0                 0                 1   \n",
       "1   59    0         0       0                 1                 0   \n",
       "2   52    0         0       0                 0                 0   \n",
       "3   46    1         1       0                 0                 0   \n",
       "4   19    1         0       0                 0                 0   \n",
       "\n",
       "   region_southwest  \n",
       "0                 0  \n",
       "1                 0  \n",
       "2                 1  \n",
       "3                 0  \n",
       "4                 1  "
      ]
     },
     "execution_count": 90,
     "metadata": {},
     "output_type": "execute_result"
    }
   ],
   "source": [
    "df.head()"
   ]
  },
  {
   "cell_type": "markdown",
   "metadata": {},
   "source": [
    "The following code scales the test data. "
   ]
  },
  {
   "cell_type": "code",
   "execution_count": 100,
   "metadata": {},
   "outputs": [],
   "source": [
    "X=df"
   ]
  },
  {
   "cell_type": "markdown",
   "metadata": {},
   "source": [
    "This saved the features on a new dataframe as X."
   ]
  },
  {
   "cell_type": "code",
   "execution_count": 101,
   "metadata": {},
   "outputs": [],
   "source": [
    "scaler=StandardScaler()"
   ]
  },
  {
   "cell_type": "code",
   "execution_count": 102,
   "metadata": {},
   "outputs": [
    {
     "data": {
      "text/plain": [
       "StandardScaler(copy=True, with_mean=True, with_std=True)"
      ]
     },
     "execution_count": 102,
     "metadata": {},
     "output_type": "execute_result"
    }
   ],
   "source": [
    "scaler.fit(X)"
   ]
  },
  {
   "cell_type": "code",
   "execution_count": 103,
   "metadata": {},
   "outputs": [],
   "source": [
    "scaled=scaler.transform(X)"
   ]
  },
  {
   "cell_type": "code",
   "execution_count": 104,
   "metadata": {},
   "outputs": [
    {
     "data": {
      "text/plain": [
       "Index(['age', 'sex', 'children', 'smoker', 'region_northwest',\n",
       "       'region_southeast', 'region_southwest'],\n",
       "      dtype='object')"
      ]
     },
     "execution_count": 104,
     "metadata": {},
     "output_type": "execute_result"
    }
   ],
   "source": [
    "X.columns"
   ]
  },
  {
   "cell_type": "code",
   "execution_count": 105,
   "metadata": {},
   "outputs": [
    {
     "data": {
      "text/plain": [
       "array([[ 1.39801405,  0.9793183 , -0.93924712, ..., -0.62453302,\n",
       "         1.67535614, -0.49533136],\n",
       "       [ 1.39801405, -1.02111847, -0.93924712, ...,  1.60119636,\n",
       "        -0.59688802, -0.49533136],\n",
       "       [ 0.89788545, -1.02111847, -0.93924712, ..., -0.62453302,\n",
       "        -0.59688802,  2.01885056],\n",
       "       ...,\n",
       "       [ 1.54090793, -1.02111847, -0.93924712, ...,  1.60119636,\n",
       "        -0.59688802, -0.49533136],\n",
       "       [-0.74539422, -1.02111847, -0.93924712, ..., -0.62453302,\n",
       "        -0.59688802, -0.49533136],\n",
       "       [-1.10262893,  0.9793183 , -0.93924712, ..., -0.62453302,\n",
       "        -0.59688802,  2.01885056]])"
      ]
     },
     "execution_count": 105,
     "metadata": {},
     "output_type": "execute_result"
    }
   ],
   "source": [
    "scaled"
   ]
  },
  {
   "cell_type": "code",
   "execution_count": 106,
   "metadata": {},
   "outputs": [
    {
     "data": {
      "text/plain": [
       "RangeIndex(start=0, stop=335, step=1)"
      ]
     },
     "execution_count": 106,
     "metadata": {},
     "output_type": "execute_result"
    }
   ],
   "source": [
    "X.index"
   ]
  },
  {
   "cell_type": "markdown",
   "metadata": {},
   "source": [
    "I created a new dataframe of the scaled data called X_sc after scaling the data. "
   ]
  },
  {
   "cell_type": "code",
   "execution_count": 107,
   "metadata": {},
   "outputs": [],
   "source": [
    "X_sc=pd.DataFrame(scaled,columns=X.columns)"
   ]
  },
  {
   "cell_type": "code",
   "execution_count": 109,
   "metadata": {
    "scrolled": true
   },
   "outputs": [],
   "source": [
    "X_new=X_sc"
   ]
  },
  {
   "cell_type": "code",
   "execution_count": 110,
   "metadata": {},
   "outputs": [
    {
     "data": {
      "text/html": [
       "<div>\n",
       "<style scoped>\n",
       "    .dataframe tbody tr th:only-of-type {\n",
       "        vertical-align: middle;\n",
       "    }\n",
       "\n",
       "    .dataframe tbody tr th {\n",
       "        vertical-align: top;\n",
       "    }\n",
       "\n",
       "    .dataframe thead th {\n",
       "        text-align: right;\n",
       "    }\n",
       "</style>\n",
       "<table border=\"1\" class=\"dataframe\">\n",
       "  <thead>\n",
       "    <tr style=\"text-align: right;\">\n",
       "      <th></th>\n",
       "      <th>age</th>\n",
       "      <th>sex</th>\n",
       "      <th>children</th>\n",
       "      <th>smoker</th>\n",
       "      <th>region_northwest</th>\n",
       "      <th>region_southeast</th>\n",
       "      <th>region_southwest</th>\n",
       "    </tr>\n",
       "  </thead>\n",
       "  <tbody>\n",
       "    <tr>\n",
       "      <td>0</td>\n",
       "      <td>1.398014</td>\n",
       "      <td>0.979318</td>\n",
       "      <td>-0.939247</td>\n",
       "      <td>-0.490653</td>\n",
       "      <td>-0.624533</td>\n",
       "      <td>1.675356</td>\n",
       "      <td>-0.495331</td>\n",
       "    </tr>\n",
       "    <tr>\n",
       "      <td>1</td>\n",
       "      <td>1.398014</td>\n",
       "      <td>-1.021118</td>\n",
       "      <td>-0.939247</td>\n",
       "      <td>-0.490653</td>\n",
       "      <td>1.601196</td>\n",
       "      <td>-0.596888</td>\n",
       "      <td>-0.495331</td>\n",
       "    </tr>\n",
       "    <tr>\n",
       "      <td>2</td>\n",
       "      <td>0.897885</td>\n",
       "      <td>-1.021118</td>\n",
       "      <td>-0.939247</td>\n",
       "      <td>-0.490653</td>\n",
       "      <td>-0.624533</td>\n",
       "      <td>-0.596888</td>\n",
       "      <td>2.018851</td>\n",
       "    </tr>\n",
       "    <tr>\n",
       "      <td>3</td>\n",
       "      <td>0.469204</td>\n",
       "      <td>0.979318</td>\n",
       "      <td>-0.106846</td>\n",
       "      <td>-0.490653</td>\n",
       "      <td>-0.624533</td>\n",
       "      <td>-0.596888</td>\n",
       "      <td>-0.495331</td>\n",
       "    </tr>\n",
       "    <tr>\n",
       "      <td>4</td>\n",
       "      <td>-1.459864</td>\n",
       "      <td>0.979318</td>\n",
       "      <td>-0.939247</td>\n",
       "      <td>-0.490653</td>\n",
       "      <td>-0.624533</td>\n",
       "      <td>-0.596888</td>\n",
       "      <td>2.018851</td>\n",
       "    </tr>\n",
       "  </tbody>\n",
       "</table>\n",
       "</div>"
      ],
      "text/plain": [
       "        age       sex  children    smoker  region_northwest  region_southeast  \\\n",
       "0  1.398014  0.979318 -0.939247 -0.490653         -0.624533          1.675356   \n",
       "1  1.398014 -1.021118 -0.939247 -0.490653          1.601196         -0.596888   \n",
       "2  0.897885 -1.021118 -0.939247 -0.490653         -0.624533         -0.596888   \n",
       "3  0.469204  0.979318 -0.106846 -0.490653         -0.624533         -0.596888   \n",
       "4 -1.459864  0.979318 -0.939247 -0.490653         -0.624533         -0.596888   \n",
       "\n",
       "   region_southwest  \n",
       "0         -0.495331  \n",
       "1         -0.495331  \n",
       "2          2.018851  \n",
       "3         -0.495331  \n",
       "4          2.018851  "
      ]
     },
     "execution_count": 110,
     "metadata": {},
     "output_type": "execute_result"
    }
   ],
   "source": [
    "X_new.head()"
   ]
  },
  {
   "cell_type": "code",
   "execution_count": 111,
   "metadata": {},
   "outputs": [],
   "source": [
    "knn_Newpred=knn_reg.predict(X_new)"
   ]
  },
  {
   "cell_type": "code",
   "execution_count": 112,
   "metadata": {
    "scrolled": true
   },
   "outputs": [
    {
     "data": {
      "text/plain": [
       "array([12244.531  , 11356.6609 ,  9144.565  ,  9447.3824 ,  1737.376  ,\n",
       "       13844.7972 ,  6710.1919 ,  9225.2564 , 40182.246  ,  3761.292  ,\n",
       "        6781.3542 ,  9850.432  , 18608.262  ,  3471.4096 ,  6796.86325,\n",
       "       14474.675  , 62592.87309, 19749.38338, 12475.3513 ,  2205.9808 ,\n",
       "       32108.66282,  2867.1196 ,  3277.161  , 58571.07448,  5375.038  ,\n",
       "       48173.361  ,  3176.8159 ,  2395.17155, 39125.33225, 11289.10925,\n",
       "       11944.59435,  9620.3307 ,  9620.3307 ,  7443.64305,  5976.8311 ,\n",
       "        4402.233  ,  2699.56835, 20277.80751, 16577.7795 , 27533.9129 ,\n",
       "       24520.264  ,  6710.1919 ,  2020.177  , 39983.42595, 41949.2441 ,\n",
       "       13012.20865, 11987.1682 , 34672.1472 , 43896.3763 ,  1702.4553 ,\n",
       "        2395.17155,  3857.75925,  1632.56445, 11150.78   ,  9504.3103 ,\n",
       "       11326.71487,  2156.7518 ,  1633.0444 , 20234.85475,  7443.64305,\n",
       "       24535.69855, 39774.2763 ,  1632.56445,  8582.3023 , 33907.548  ,\n",
       "        9447.3824 ,  4561.1885 ,  6555.07035,  6600.20595,  6496.886  ,\n",
       "        7256.7231 , 42112.2356 ,  6666.243  , 11326.71487, 13217.0945 ,\n",
       "        2585.269  ,  1702.4553 , 39983.42595,  5312.16985,  9386.1613 ,\n",
       "        4441.21315,  7682.67   ,  7418.522  , 13725.47184,  5428.7277 ,\n",
       "        2352.96845,  6753.038  , 13887.9685 ,  2395.17155,  2304.0022 ,\n",
       "        7281.5056 ,  4906.40965, 58571.07448,  4527.18295, 39983.42595,\n",
       "        8671.19125, 11987.1682 , 58571.07448,  9140.951  ,  8027.968  ,\n",
       "        4562.8421 , 27533.9129 , 25678.77845,  7448.40395,  3947.4131 ,\n",
       "        7727.2532 ,  5630.45785,  9225.2564 , 10118.424  ,  2473.3341 ,\n",
       "       11737.84884,  8233.0975 , 14001.1338 , 11356.6609 ,  2156.7518 ,\n",
       "        2219.4451 ,  7421.19455, 23401.30575, 11987.1682 , 11737.84884,\n",
       "       10797.3362 , 10381.4787 ,  3579.8287 , 23082.95533, 10594.2257 ,\n",
       "       11987.1682 ,  8233.0975 ,  2104.1134 ,  4500.33925,  2585.269  ,\n",
       "        3693.428  , 19749.38338,  2699.56835,  5138.2567 ,  2801.2588 ,\n",
       "       12574.049  , 24535.69855, 17352.6803 ,  8334.5896 , 17468.9839 ,\n",
       "        3847.674  , 24667.419  , 11289.10925, 45702.02235, 11150.78   ,\n",
       "        1702.4553 , 13047.33235,  6571.02435,  9617.66245,  3558.62025,\n",
       "        4661.28635,  9225.2564 , 11264.541  , 23401.30575, 48517.56315,\n",
       "        4435.0942 , 11356.6609 , 12222.8983 ,  5375.038  , 10461.9794 ,\n",
       "        8027.968  ,  5989.52365,  9386.1613 , 15828.82173,  8062.764  ,\n",
       "       24535.69855,  3070.8087 , 11187.6567 ,  6555.07035, 23082.95533,\n",
       "        9617.66245, 23401.30575, 20878.78443, 16577.7795 , 11073.176  ,\n",
       "        3410.324  ,  6600.20595,  8825.086  ,  4399.731  , 12913.9924 ,\n",
       "       14394.39815, 39983.42595,  9249.4952 ,  1702.4553 ,  9722.7695 ,\n",
       "       27941.28758, 23082.95533, 11356.6609 ,  6356.2707 ,  2257.47525,\n",
       "        8125.7845 , 13844.7972 ,  4133.64165,  3866.8552 , 37270.1512 ,\n",
       "        4561.1885 ,  6356.2707 ,  1984.4533 , 13887.9685 , 13770.0979 ,\n",
       "        2257.47525,  7371.772  ,  9391.346  , 42969.8527 , 25656.57526,\n",
       "        8059.6791 ,  1632.56445,  4349.462  ,  4949.7587 , 11356.6609 ,\n",
       "       45702.02235, 11082.5772 , 12222.8983 ,  4435.0942 , 12979.358  ,\n",
       "        2205.9808 , 12475.3513 , 22395.74424, 10338.9316 ,  6128.79745,\n",
       "        4058.71245, 14451.83515, 48970.2476 , 11073.176  , 12475.3513 ,\n",
       "       11356.6609 , 14451.83515, 32108.66282,  8277.523  , 18608.262  ,\n",
       "       17352.6803 ,  6781.3542 ,  4661.28635,  4435.0942 , 23082.95533,\n",
       "        9095.06825, 11658.37915,  9174.13565,  2055.3249 , 39983.42595,\n",
       "        8027.968  ,  7147.4728 ,  1837.2819 , 11658.37915, 23401.30575,\n",
       "       10942.13205,  8116.26885, 12244.531  ,  4058.71245, 20984.0936 ,\n",
       "       44585.45587, 38709.176  ,  2473.3341 , 19442.3535 ,  3277.161  ,\n",
       "       11674.13   ,  7173.35995, 13470.86   ,  3757.8448 ,  9447.3824 ,\n",
       "        2866.091  ,  4949.7587 ,  3556.9223 , 58571.07448,  8516.829  ,\n",
       "       22412.6485 ,  1632.56445,  1632.56445,  4719.73655,  6664.68595,\n",
       "       39722.7462 ,  2709.1119 ,  2302.3    ,  5312.16985,  7448.40395,\n",
       "       11362.755  ,  4435.0942 ,  9048.0273 ,  4266.1658 ,  8516.829  ,\n",
       "        2302.3    , 17468.9839 ,  2709.1119 ,  2902.9065 ,  6666.243  ,\n",
       "        4185.0979 , 41097.16175,  6686.4313 , 26926.5144 ,  3392.3652 ,\n",
       "       11264.541  ,  5584.3057 , 23082.95533,  1632.56445, 10594.2257 ,\n",
       "        2755.02095,  1702.4553 ,  8233.0975 , 13457.9608 ,  7147.4728 ,\n",
       "        1837.2819 , 11362.755  , 12323.936  , 13217.0945 ,  4133.64165,\n",
       "       24535.69855,  5246.047  , 25678.77845,  7986.47525, 14571.8908 ,\n",
       "        4751.07   , 39774.2763 , 39722.7462 ,  6796.86325,  3757.8448 ,\n",
       "        9447.3824 ,  5383.536  ,  8062.764  , 40941.2854 , 14349.8544 ,\n",
       "       11987.1682 , 58571.07448, 14571.8908 ,  1532.4697 ,  8116.68   ,\n",
       "       23082.95533, 37079.372  ,  1633.0444 ,  9877.6077 , 63770.42801,\n",
       "       26926.5144 ,  1632.56445, 13770.0979 , 16138.76205, 10795.93733])"
      ]
     },
     "execution_count": 112,
     "metadata": {},
     "output_type": "execute_result"
    }
   ],
   "source": [
    "knn_Newpred"
   ]
  },
  {
   "cell_type": "code",
   "execution_count": 134,
   "metadata": {},
   "outputs": [],
   "source": [
    "knnCharge= pd.DataFrame(knn_Newpred, columns=['knn_charge'])"
   ]
  },
  {
   "cell_type": "markdown",
   "metadata": {},
   "source": [
    "From https://stackoverflow.com/questions/45264141/convert-array-into-dataframe-in-python/54150900"
   ]
  },
  {
   "cell_type": "code",
   "execution_count": 135,
   "metadata": {},
   "outputs": [
    {
     "data": {
      "text/html": [
       "<div>\n",
       "<style scoped>\n",
       "    .dataframe tbody tr th:only-of-type {\n",
       "        vertical-align: middle;\n",
       "    }\n",
       "\n",
       "    .dataframe tbody tr th {\n",
       "        vertical-align: top;\n",
       "    }\n",
       "\n",
       "    .dataframe thead th {\n",
       "        text-align: right;\n",
       "    }\n",
       "</style>\n",
       "<table border=\"1\" class=\"dataframe\">\n",
       "  <thead>\n",
       "    <tr style=\"text-align: right;\">\n",
       "      <th></th>\n",
       "      <th>knn_charge</th>\n",
       "    </tr>\n",
       "  </thead>\n",
       "  <tbody>\n",
       "    <tr>\n",
       "      <td>0</td>\n",
       "      <td>12244.53100</td>\n",
       "    </tr>\n",
       "    <tr>\n",
       "      <td>1</td>\n",
       "      <td>11356.66090</td>\n",
       "    </tr>\n",
       "    <tr>\n",
       "      <td>2</td>\n",
       "      <td>9144.56500</td>\n",
       "    </tr>\n",
       "    <tr>\n",
       "      <td>3</td>\n",
       "      <td>9447.38240</td>\n",
       "    </tr>\n",
       "    <tr>\n",
       "      <td>4</td>\n",
       "      <td>1737.37600</td>\n",
       "    </tr>\n",
       "    <tr>\n",
       "      <td>...</td>\n",
       "      <td>...</td>\n",
       "    </tr>\n",
       "    <tr>\n",
       "      <td>330</td>\n",
       "      <td>26926.51440</td>\n",
       "    </tr>\n",
       "    <tr>\n",
       "      <td>331</td>\n",
       "      <td>1632.56445</td>\n",
       "    </tr>\n",
       "    <tr>\n",
       "      <td>332</td>\n",
       "      <td>13770.09790</td>\n",
       "    </tr>\n",
       "    <tr>\n",
       "      <td>333</td>\n",
       "      <td>16138.76205</td>\n",
       "    </tr>\n",
       "    <tr>\n",
       "      <td>334</td>\n",
       "      <td>10795.93733</td>\n",
       "    </tr>\n",
       "  </tbody>\n",
       "</table>\n",
       "<p>335 rows × 1 columns</p>\n",
       "</div>"
      ],
      "text/plain": [
       "      knn_charge\n",
       "0    12244.53100\n",
       "1    11356.66090\n",
       "2     9144.56500\n",
       "3     9447.38240\n",
       "4     1737.37600\n",
       "..           ...\n",
       "330  26926.51440\n",
       "331   1632.56445\n",
       "332  13770.09790\n",
       "333  16138.76205\n",
       "334  10795.93733\n",
       "\n",
       "[335 rows x 1 columns]"
      ]
     },
     "execution_count": 135,
     "metadata": {},
     "output_type": "execute_result"
    }
   ],
   "source": [
    "knnCharge"
   ]
  },
  {
   "cell_type": "code",
   "execution_count": 136,
   "metadata": {},
   "outputs": [],
   "source": [
    "lg_Newpred=lg.predict(X_new)"
   ]
  },
  {
   "cell_type": "code",
   "execution_count": 137,
   "metadata": {},
   "outputs": [
    {
     "data": {
      "text/plain": [
       "array([13372.7879503 , 12552.6125168 , 10734.80993135, 10594.70844633,\n",
       "        1956.22612067, 13600.52318016,  8262.56507484, 14125.16501791,\n",
       "       29424.9018683 ,  5317.92159863,  9159.02855058, 11510.58581088,\n",
       "       32176.94037518,  6559.56612816,  5524.06939194, 15106.64362697,\n",
       "       32871.67315189, 13143.9238236 , 11561.51533455,  2913.23769327,\n",
       "       10763.46953995,  6635.8541704 ,  4452.31485288, 32951.64803018,\n",
       "        5941.12139369, 37746.40479237,  3774.02870612,  4709.83858819,\n",
       "       35006.84088494, 11547.97251057, 13501.96522286,  9737.82879166,\n",
       "       11471.68446833,  8093.80398122,  8383.25267105,  6597.33857386,\n",
       "        4536.26176167,  6185.10230502, 31075.07225698, 39608.6069318 ,\n",
       "       35538.63585314,  8003.973115  ,  2473.41004035, 31332.53531997,\n",
       "       33677.17686456, 12566.15534078, 13982.44492138, 32613.08119205,\n",
       "       34284.19165046,  3158.28682913,  4451.24662835,  6778.57426694,\n",
       "        2208.93412308, 11630.14451023, 12066.2853271 ,  7076.75004785,\n",
       "        3804.88543611,  2770.51759674, 30527.0316073 ,  7835.21202137,\n",
       "       35546.29471969, 31386.55344714,  2208.93412308, 11439.79598007,\n",
       "       27941.11200887, 11370.48432586,  6745.55688182,  8525.97276759,\n",
       "        9288.20582313,  8086.14511467,  8779.74899453, 30650.36138868,\n",
       "        7585.14620413,  8628.30180691, 13774.10000668,  2397.12199812,\n",
       "        3158.28682913, 35211.41471761,  3286.57261957, 12507.18120455,\n",
       "        7219.47014439,  9265.04442595,  8709.34490972,  9301.74864711,\n",
       "        8359.85385913,  3760.48588214,  8890.5806028 , 14665.74774952,\n",
       "        4968.43054804,  5190.31828671,  7682.6359369 ,  5431.59634055,\n",
       "       33210.23999002,  5507.88438279, 30298.16748059,  9721.64378251,\n",
       "       13906.15687914, 33210.23999002, 11549.10140742,  9212.98600543,\n",
       "        6831.70091199, 38832.83105227, 37767.60648291,  9881.67778505,\n",
       "        6314.5169923 ,  8869.57986075,  6800.844182  , 11280.65345964,\n",
       "       10854.3686307 ,  4322.0693558 ,  7661.43424637, 10710.58030964,\n",
       "       15988.43538187, 12035.42859711,  4063.47739595,  3211.41347419,\n",
       "        8428.6839833 , 38229.50310241, 14499.62884106,  7996.31424845,\n",
       "       11887.66824555, 11075.18814485,  4138.63654134,  2977.05113606,\n",
       "       13100.65316648, 14940.52471851, 10451.98834979,  3934.06270866,\n",
       "        8588.71798584,  3431.48983749,  3083.06701143, 12626.73990391,\n",
       "        4536.26176167,  6679.12482752,  4169.49327133, 13062.13756994,\n",
       "       37021.55843651, 28703.34506442, 11356.94150188, 27165.33612934,\n",
       "        5410.39465002, 37904.47908827, 12840.93230978, 34756.97601618,\n",
       "       11888.73647008,  3158.28682913, 14062.41979966,  7911.50006361,\n",
       "       11615.53346172,  5499.1572917 ,  6808.30210007, 13090.79717854,\n",
       "       10247.3538448 , 37195.13526304, 39234.14310865,  7401.77406199,\n",
       "       12294.02055696, 12307.56338094,  6199.71335353, 11441.95663519,\n",
       "        9547.86600751,  6465.96417992, 13541.54904393,  8891.64882733,\n",
       "        9882.74600958, 36063.47863938,  5744.20642756, 11379.21141694,\n",
       "        8525.97276759,  2201.27525653, 11615.53346172, 35020.38370892,\n",
       "       10412.40452872, 30816.48029713, 11265.53667502,  4207.26571702,\n",
       "        9546.79778297, 10337.18471102,  7153.03809009, 15418.12481713,\n",
       "       12434.57999837, 34177.04687824,  9645.35574028,  3158.28682913,\n",
       "       11691.82150395, 13867.6412826 ,  2201.27525653, 12035.42859711,\n",
       "        9327.7896442 ,  2481.06890691, 11031.91748773, 13341.93122031,\n",
       "        3956.33262373,  5312.0376412 , 33286.52803226,  6228.37296214,\n",
       "        9327.7896442 ,  3675.47074882, 14665.74774952, 13069.79643649,\n",
       "        2481.06890691,  9044.2249118 , 10917.11384896, 34101.88773286,\n",
       "       11446.77236809, 10527.14749518,  2208.93412308,  6496.82090991,\n",
       "        7272.59678944, 12294.02055696, 38118.67149414, 10756.01162188,\n",
       "       12048.9714211 ,  6625.99818247, 13320.72952978,  3430.42161296,\n",
       "       12337.29121408,  6380.94904661, 11821.23619124,  6906.86005737,\n",
       "        4565.9895948 , 14808.46784605, 40735.44782256, 11524.12863486,\n",
       "       11044.33141486, 12552.6125168 , 14549.87588621, 11022.0614998 ,\n",
       "        9455.39295612, 31066.28449357, 27151.79330536,  9676.21247026,\n",
       "        4480.97446149,  6108.81426278,  2459.86721637, 11035.60432378,\n",
       "       12998.32412715, 10225.28487821,  2984.71000261, 30633.04748267,\n",
       "       10065.04992719,  9145.48572659,  4567.11849166, 12998.32412715,\n",
       "       34761.79174908, 13007.05121823,  9814.1168339 , 13631.37991015,\n",
       "        3090.72587798, 35447.73676239, 30870.43775198, 33312.56902934,\n",
       "        4839.25327548,  5676.64547641,  4193.72289304, 11706.43255247,\n",
       "        8436.14190137, 13334.27235376,  5615.02915501, 10853.30040617,\n",
       "        4787.19485496,  7272.59678944,  4549.80458565, 32434.46411049,\n",
       "       10892.88422724, 38186.23244529,  2208.93412308,  2208.93412308,\n",
       "        4397.22850118,  8597.44507692, 28217.01787472,  2663.37282451,\n",
       "        3752.82701559,  4579.53241879,  9364.49386537, 12544.95365025,\n",
       "        5850.22230294, 11214.22140534,  6483.27808593, 10634.2922674 ,\n",
       "        3235.6430959 , 27606.23200679,  2404.78086467,  5266.60632895,\n",
       "       11387.73755954,  6649.39699438, 34307.35304765,  7500.3320193 ,\n",
       "       38819.28822828,  5280.14915293, 11023.12972433,  8034.82984499,\n",
       "        2977.05113606,  2208.93412308, 13359.24512632,  3947.60553265,\n",
       "        3158.28682913, 10451.98834979, 13889.97186999, 10179.85356597,\n",
       "        4825.7104515 , 12286.36169041, 14277.74110238, 13774.10000668,\n",
       "        4214.92458357, 36762.96647667,  6276.00139576, 36733.23864353,\n",
       "        9149.17256264, 27856.09687555,  6521.05053162, 32162.32932667,\n",
       "       28217.01787472,  6634.72527355,  5356.43719517, 11629.0762857 ,\n",
       "        6610.88139784,  9882.74600958, 35500.86340744, 14286.46819347,\n",
       "       15199.11667836, 33727.42390971, 28373.28079524,  3532.75065228,\n",
       "        9700.44209198,  2201.27525653, 31812.33253997,  2770.51759674,\n",
       "       12779.31598838, 36246.91145384, 39853.65606766,  2208.93412308,\n",
       "       13069.79643649, 30945.65756969,  3249.18591988])"
      ]
     },
     "execution_count": 137,
     "metadata": {},
     "output_type": "execute_result"
    }
   ],
   "source": [
    "lg_Newpred"
   ]
  },
  {
   "cell_type": "code",
   "execution_count": 138,
   "metadata": {},
   "outputs": [],
   "source": [
    "lgCharge= pd.DataFrame(lg_Newpred, columns=['lg_charge'])"
   ]
  },
  {
   "cell_type": "code",
   "execution_count": 139,
   "metadata": {},
   "outputs": [
    {
     "data": {
      "text/html": [
       "<div>\n",
       "<style scoped>\n",
       "    .dataframe tbody tr th:only-of-type {\n",
       "        vertical-align: middle;\n",
       "    }\n",
       "\n",
       "    .dataframe tbody tr th {\n",
       "        vertical-align: top;\n",
       "    }\n",
       "\n",
       "    .dataframe thead th {\n",
       "        text-align: right;\n",
       "    }\n",
       "</style>\n",
       "<table border=\"1\" class=\"dataframe\">\n",
       "  <thead>\n",
       "    <tr style=\"text-align: right;\">\n",
       "      <th></th>\n",
       "      <th>lg_charge</th>\n",
       "    </tr>\n",
       "  </thead>\n",
       "  <tbody>\n",
       "    <tr>\n",
       "      <td>0</td>\n",
       "      <td>13372.787950</td>\n",
       "    </tr>\n",
       "    <tr>\n",
       "      <td>1</td>\n",
       "      <td>12552.612517</td>\n",
       "    </tr>\n",
       "    <tr>\n",
       "      <td>2</td>\n",
       "      <td>10734.809931</td>\n",
       "    </tr>\n",
       "    <tr>\n",
       "      <td>3</td>\n",
       "      <td>10594.708446</td>\n",
       "    </tr>\n",
       "    <tr>\n",
       "      <td>4</td>\n",
       "      <td>1956.226121</td>\n",
       "    </tr>\n",
       "    <tr>\n",
       "      <td>...</td>\n",
       "      <td>...</td>\n",
       "    </tr>\n",
       "    <tr>\n",
       "      <td>330</td>\n",
       "      <td>39853.656068</td>\n",
       "    </tr>\n",
       "    <tr>\n",
       "      <td>331</td>\n",
       "      <td>2208.934123</td>\n",
       "    </tr>\n",
       "    <tr>\n",
       "      <td>332</td>\n",
       "      <td>13069.796436</td>\n",
       "    </tr>\n",
       "    <tr>\n",
       "      <td>333</td>\n",
       "      <td>30945.657570</td>\n",
       "    </tr>\n",
       "    <tr>\n",
       "      <td>334</td>\n",
       "      <td>3249.185920</td>\n",
       "    </tr>\n",
       "  </tbody>\n",
       "</table>\n",
       "<p>335 rows × 1 columns</p>\n",
       "</div>"
      ],
      "text/plain": [
       "        lg_charge\n",
       "0    13372.787950\n",
       "1    12552.612517\n",
       "2    10734.809931\n",
       "3    10594.708446\n",
       "4     1956.226121\n",
       "..            ...\n",
       "330  39853.656068\n",
       "331   2208.934123\n",
       "332  13069.796436\n",
       "333  30945.657570\n",
       "334   3249.185920\n",
       "\n",
       "[335 rows x 1 columns]"
      ]
     },
     "execution_count": 139,
     "metadata": {},
     "output_type": "execute_result"
    }
   ],
   "source": [
    "lgCharge"
   ]
  },
  {
   "cell_type": "code",
   "execution_count": 145,
   "metadata": {},
   "outputs": [],
   "source": [
    "df_new=X_new.reindex(columns=['age','sex','children','smoker','region_northwest','region_southeast','region_southwest'])"
   ]
  },
  {
   "cell_type": "code",
   "execution_count": 146,
   "metadata": {},
   "outputs": [
    {
     "data": {
      "text/html": [
       "<div>\n",
       "<style scoped>\n",
       "    .dataframe tbody tr th:only-of-type {\n",
       "        vertical-align: middle;\n",
       "    }\n",
       "\n",
       "    .dataframe tbody tr th {\n",
       "        vertical-align: top;\n",
       "    }\n",
       "\n",
       "    .dataframe thead th {\n",
       "        text-align: right;\n",
       "    }\n",
       "</style>\n",
       "<table border=\"1\" class=\"dataframe\">\n",
       "  <thead>\n",
       "    <tr style=\"text-align: right;\">\n",
       "      <th></th>\n",
       "      <th>age</th>\n",
       "      <th>sex</th>\n",
       "      <th>children</th>\n",
       "      <th>smoker</th>\n",
       "      <th>region_northwest</th>\n",
       "      <th>region_southeast</th>\n",
       "      <th>region_southwest</th>\n",
       "    </tr>\n",
       "  </thead>\n",
       "  <tbody>\n",
       "    <tr>\n",
       "      <td>0</td>\n",
       "      <td>1.398014</td>\n",
       "      <td>0.979318</td>\n",
       "      <td>-0.939247</td>\n",
       "      <td>-0.490653</td>\n",
       "      <td>-0.624533</td>\n",
       "      <td>1.675356</td>\n",
       "      <td>-0.495331</td>\n",
       "    </tr>\n",
       "    <tr>\n",
       "      <td>1</td>\n",
       "      <td>1.398014</td>\n",
       "      <td>-1.021118</td>\n",
       "      <td>-0.939247</td>\n",
       "      <td>-0.490653</td>\n",
       "      <td>1.601196</td>\n",
       "      <td>-0.596888</td>\n",
       "      <td>-0.495331</td>\n",
       "    </tr>\n",
       "    <tr>\n",
       "      <td>2</td>\n",
       "      <td>0.897885</td>\n",
       "      <td>-1.021118</td>\n",
       "      <td>-0.939247</td>\n",
       "      <td>-0.490653</td>\n",
       "      <td>-0.624533</td>\n",
       "      <td>-0.596888</td>\n",
       "      <td>2.018851</td>\n",
       "    </tr>\n",
       "    <tr>\n",
       "      <td>3</td>\n",
       "      <td>0.469204</td>\n",
       "      <td>0.979318</td>\n",
       "      <td>-0.106846</td>\n",
       "      <td>-0.490653</td>\n",
       "      <td>-0.624533</td>\n",
       "      <td>-0.596888</td>\n",
       "      <td>-0.495331</td>\n",
       "    </tr>\n",
       "    <tr>\n",
       "      <td>4</td>\n",
       "      <td>-1.459864</td>\n",
       "      <td>0.979318</td>\n",
       "      <td>-0.939247</td>\n",
       "      <td>-0.490653</td>\n",
       "      <td>-0.624533</td>\n",
       "      <td>-0.596888</td>\n",
       "      <td>2.018851</td>\n",
       "    </tr>\n",
       "    <tr>\n",
       "      <td>5</td>\n",
       "      <td>1.755249</td>\n",
       "      <td>0.979318</td>\n",
       "      <td>-0.939247</td>\n",
       "      <td>-0.490653</td>\n",
       "      <td>1.601196</td>\n",
       "      <td>-0.596888</td>\n",
       "      <td>-0.495331</td>\n",
       "    </tr>\n",
       "    <tr>\n",
       "      <td>6</td>\n",
       "      <td>-0.030925</td>\n",
       "      <td>-1.021118</td>\n",
       "      <td>0.725556</td>\n",
       "      <td>-0.490653</td>\n",
       "      <td>1.601196</td>\n",
       "      <td>-0.596888</td>\n",
       "      <td>-0.495331</td>\n",
       "    </tr>\n",
       "    <tr>\n",
       "      <td>7</td>\n",
       "      <td>1.255120</td>\n",
       "      <td>-1.021118</td>\n",
       "      <td>0.725556</td>\n",
       "      <td>-0.490653</td>\n",
       "      <td>-0.624533</td>\n",
       "      <td>-0.596888</td>\n",
       "      <td>-0.495331</td>\n",
       "    </tr>\n",
       "    <tr>\n",
       "      <td>8</td>\n",
       "      <td>-1.316970</td>\n",
       "      <td>-1.021118</td>\n",
       "      <td>2.390359</td>\n",
       "      <td>2.038099</td>\n",
       "      <td>-0.624533</td>\n",
       "      <td>-0.596888</td>\n",
       "      <td>2.018851</td>\n",
       "    </tr>\n",
       "    <tr>\n",
       "      <td>9</td>\n",
       "      <td>-0.531053</td>\n",
       "      <td>0.979318</td>\n",
       "      <td>-0.939247</td>\n",
       "      <td>-0.490653</td>\n",
       "      <td>-0.624533</td>\n",
       "      <td>-0.596888</td>\n",
       "      <td>2.018851</td>\n",
       "    </tr>\n",
       "  </tbody>\n",
       "</table>\n",
       "</div>"
      ],
      "text/plain": [
       "        age       sex  children    smoker  region_northwest  region_southeast  \\\n",
       "0  1.398014  0.979318 -0.939247 -0.490653         -0.624533          1.675356   \n",
       "1  1.398014 -1.021118 -0.939247 -0.490653          1.601196         -0.596888   \n",
       "2  0.897885 -1.021118 -0.939247 -0.490653         -0.624533         -0.596888   \n",
       "3  0.469204  0.979318 -0.106846 -0.490653         -0.624533         -0.596888   \n",
       "4 -1.459864  0.979318 -0.939247 -0.490653         -0.624533         -0.596888   \n",
       "5  1.755249  0.979318 -0.939247 -0.490653          1.601196         -0.596888   \n",
       "6 -0.030925 -1.021118  0.725556 -0.490653          1.601196         -0.596888   \n",
       "7  1.255120 -1.021118  0.725556 -0.490653         -0.624533         -0.596888   \n",
       "8 -1.316970 -1.021118  2.390359  2.038099         -0.624533         -0.596888   \n",
       "9 -0.531053  0.979318 -0.939247 -0.490653         -0.624533         -0.596888   \n",
       "\n",
       "   region_southwest  \n",
       "0         -0.495331  \n",
       "1         -0.495331  \n",
       "2          2.018851  \n",
       "3         -0.495331  \n",
       "4          2.018851  \n",
       "5         -0.495331  \n",
       "6         -0.495331  \n",
       "7         -0.495331  \n",
       "8          2.018851  \n",
       "9          2.018851  "
      ]
     },
     "execution_count": 146,
     "metadata": {},
     "output_type": "execute_result"
    }
   ],
   "source": [
    "df_new.head(10)"
   ]
  },
  {
   "cell_type": "code",
   "execution_count": 148,
   "metadata": {},
   "outputs": [],
   "source": [
    "df_new['lg_charge']=lgCharge"
   ]
  },
  {
   "cell_type": "code",
   "execution_count": 149,
   "metadata": {},
   "outputs": [
    {
     "data": {
      "text/html": [
       "<div>\n",
       "<style scoped>\n",
       "    .dataframe tbody tr th:only-of-type {\n",
       "        vertical-align: middle;\n",
       "    }\n",
       "\n",
       "    .dataframe tbody tr th {\n",
       "        vertical-align: top;\n",
       "    }\n",
       "\n",
       "    .dataframe thead th {\n",
       "        text-align: right;\n",
       "    }\n",
       "</style>\n",
       "<table border=\"1\" class=\"dataframe\">\n",
       "  <thead>\n",
       "    <tr style=\"text-align: right;\">\n",
       "      <th></th>\n",
       "      <th>age</th>\n",
       "      <th>sex</th>\n",
       "      <th>children</th>\n",
       "      <th>smoker</th>\n",
       "      <th>region_northwest</th>\n",
       "      <th>region_southeast</th>\n",
       "      <th>region_southwest</th>\n",
       "      <th>lg_charge</th>\n",
       "    </tr>\n",
       "  </thead>\n",
       "  <tbody>\n",
       "    <tr>\n",
       "      <td>0</td>\n",
       "      <td>1.398014</td>\n",
       "      <td>0.979318</td>\n",
       "      <td>-0.939247</td>\n",
       "      <td>-0.490653</td>\n",
       "      <td>-0.624533</td>\n",
       "      <td>1.675356</td>\n",
       "      <td>-0.495331</td>\n",
       "      <td>13372.787950</td>\n",
       "    </tr>\n",
       "    <tr>\n",
       "      <td>1</td>\n",
       "      <td>1.398014</td>\n",
       "      <td>-1.021118</td>\n",
       "      <td>-0.939247</td>\n",
       "      <td>-0.490653</td>\n",
       "      <td>1.601196</td>\n",
       "      <td>-0.596888</td>\n",
       "      <td>-0.495331</td>\n",
       "      <td>12552.612517</td>\n",
       "    </tr>\n",
       "    <tr>\n",
       "      <td>2</td>\n",
       "      <td>0.897885</td>\n",
       "      <td>-1.021118</td>\n",
       "      <td>-0.939247</td>\n",
       "      <td>-0.490653</td>\n",
       "      <td>-0.624533</td>\n",
       "      <td>-0.596888</td>\n",
       "      <td>2.018851</td>\n",
       "      <td>10734.809931</td>\n",
       "    </tr>\n",
       "    <tr>\n",
       "      <td>3</td>\n",
       "      <td>0.469204</td>\n",
       "      <td>0.979318</td>\n",
       "      <td>-0.106846</td>\n",
       "      <td>-0.490653</td>\n",
       "      <td>-0.624533</td>\n",
       "      <td>-0.596888</td>\n",
       "      <td>-0.495331</td>\n",
       "      <td>10594.708446</td>\n",
       "    </tr>\n",
       "    <tr>\n",
       "      <td>4</td>\n",
       "      <td>-1.459864</td>\n",
       "      <td>0.979318</td>\n",
       "      <td>-0.939247</td>\n",
       "      <td>-0.490653</td>\n",
       "      <td>-0.624533</td>\n",
       "      <td>-0.596888</td>\n",
       "      <td>2.018851</td>\n",
       "      <td>1956.226121</td>\n",
       "    </tr>\n",
       "    <tr>\n",
       "      <td>...</td>\n",
       "      <td>...</td>\n",
       "      <td>...</td>\n",
       "      <td>...</td>\n",
       "      <td>...</td>\n",
       "      <td>...</td>\n",
       "      <td>...</td>\n",
       "      <td>...</td>\n",
       "      <td>...</td>\n",
       "    </tr>\n",
       "    <tr>\n",
       "      <td>330</td>\n",
       "      <td>1.755249</td>\n",
       "      <td>-1.021118</td>\n",
       "      <td>-0.939247</td>\n",
       "      <td>2.038099</td>\n",
       "      <td>-0.624533</td>\n",
       "      <td>1.675356</td>\n",
       "      <td>-0.495331</td>\n",
       "      <td>39853.656068</td>\n",
       "    </tr>\n",
       "    <tr>\n",
       "      <td>331</td>\n",
       "      <td>-1.459864</td>\n",
       "      <td>-1.021118</td>\n",
       "      <td>-0.939247</td>\n",
       "      <td>-0.490653</td>\n",
       "      <td>1.601196</td>\n",
       "      <td>-0.596888</td>\n",
       "      <td>-0.495331</td>\n",
       "      <td>2208.934123</td>\n",
       "    </tr>\n",
       "    <tr>\n",
       "      <td>332</td>\n",
       "      <td>1.540908</td>\n",
       "      <td>-1.021118</td>\n",
       "      <td>-0.939247</td>\n",
       "      <td>-0.490653</td>\n",
       "      <td>1.601196</td>\n",
       "      <td>-0.596888</td>\n",
       "      <td>-0.495331</td>\n",
       "      <td>13069.796436</td>\n",
       "    </tr>\n",
       "    <tr>\n",
       "      <td>333</td>\n",
       "      <td>-0.745394</td>\n",
       "      <td>-1.021118</td>\n",
       "      <td>-0.939247</td>\n",
       "      <td>2.038099</td>\n",
       "      <td>-0.624533</td>\n",
       "      <td>-0.596888</td>\n",
       "      <td>-0.495331</td>\n",
       "      <td>30945.657570</td>\n",
       "    </tr>\n",
       "    <tr>\n",
       "      <td>334</td>\n",
       "      <td>-1.102629</td>\n",
       "      <td>0.979318</td>\n",
       "      <td>-0.939247</td>\n",
       "      <td>-0.490653</td>\n",
       "      <td>-0.624533</td>\n",
       "      <td>-0.596888</td>\n",
       "      <td>2.018851</td>\n",
       "      <td>3249.185920</td>\n",
       "    </tr>\n",
       "  </tbody>\n",
       "</table>\n",
       "<p>335 rows × 8 columns</p>\n",
       "</div>"
      ],
      "text/plain": [
       "          age       sex  children    smoker  region_northwest  \\\n",
       "0    1.398014  0.979318 -0.939247 -0.490653         -0.624533   \n",
       "1    1.398014 -1.021118 -0.939247 -0.490653          1.601196   \n",
       "2    0.897885 -1.021118 -0.939247 -0.490653         -0.624533   \n",
       "3    0.469204  0.979318 -0.106846 -0.490653         -0.624533   \n",
       "4   -1.459864  0.979318 -0.939247 -0.490653         -0.624533   \n",
       "..        ...       ...       ...       ...               ...   \n",
       "330  1.755249 -1.021118 -0.939247  2.038099         -0.624533   \n",
       "331 -1.459864 -1.021118 -0.939247 -0.490653          1.601196   \n",
       "332  1.540908 -1.021118 -0.939247 -0.490653          1.601196   \n",
       "333 -0.745394 -1.021118 -0.939247  2.038099         -0.624533   \n",
       "334 -1.102629  0.979318 -0.939247 -0.490653         -0.624533   \n",
       "\n",
       "     region_southeast  region_southwest     lg_charge  \n",
       "0            1.675356         -0.495331  13372.787950  \n",
       "1           -0.596888         -0.495331  12552.612517  \n",
       "2           -0.596888          2.018851  10734.809931  \n",
       "3           -0.596888         -0.495331  10594.708446  \n",
       "4           -0.596888          2.018851   1956.226121  \n",
       "..                ...               ...           ...  \n",
       "330          1.675356         -0.495331  39853.656068  \n",
       "331         -0.596888         -0.495331   2208.934123  \n",
       "332         -0.596888         -0.495331  13069.796436  \n",
       "333         -0.596888         -0.495331  30945.657570  \n",
       "334         -0.596888          2.018851   3249.185920  \n",
       "\n",
       "[335 rows x 8 columns]"
      ]
     },
     "execution_count": 149,
     "metadata": {},
     "output_type": "execute_result"
    }
   ],
   "source": [
    "df_new"
   ]
  },
  {
   "cell_type": "code",
   "execution_count": 150,
   "metadata": {},
   "outputs": [],
   "source": [
    "df_new['knn_charge']=knnCharge"
   ]
  },
  {
   "cell_type": "markdown",
   "metadata": {},
   "source": [
    "From https://thispointer.com/python-pandas-how-to-add-new-columns-in-a-dataframe-using-or-dataframe-assign/"
   ]
  },
  {
   "cell_type": "code",
   "execution_count": 151,
   "metadata": {},
   "outputs": [
    {
     "data": {
      "text/html": [
       "<div>\n",
       "<style scoped>\n",
       "    .dataframe tbody tr th:only-of-type {\n",
       "        vertical-align: middle;\n",
       "    }\n",
       "\n",
       "    .dataframe tbody tr th {\n",
       "        vertical-align: top;\n",
       "    }\n",
       "\n",
       "    .dataframe thead th {\n",
       "        text-align: right;\n",
       "    }\n",
       "</style>\n",
       "<table border=\"1\" class=\"dataframe\">\n",
       "  <thead>\n",
       "    <tr style=\"text-align: right;\">\n",
       "      <th></th>\n",
       "      <th>age</th>\n",
       "      <th>sex</th>\n",
       "      <th>children</th>\n",
       "      <th>smoker</th>\n",
       "      <th>region_northwest</th>\n",
       "      <th>region_southeast</th>\n",
       "      <th>region_southwest</th>\n",
       "      <th>lg_charge</th>\n",
       "      <th>knn_charge</th>\n",
       "    </tr>\n",
       "  </thead>\n",
       "  <tbody>\n",
       "    <tr>\n",
       "      <td>0</td>\n",
       "      <td>1.398014</td>\n",
       "      <td>0.979318</td>\n",
       "      <td>-0.939247</td>\n",
       "      <td>-0.490653</td>\n",
       "      <td>-0.624533</td>\n",
       "      <td>1.675356</td>\n",
       "      <td>-0.495331</td>\n",
       "      <td>13372.787950</td>\n",
       "      <td>12244.53100</td>\n",
       "    </tr>\n",
       "    <tr>\n",
       "      <td>1</td>\n",
       "      <td>1.398014</td>\n",
       "      <td>-1.021118</td>\n",
       "      <td>-0.939247</td>\n",
       "      <td>-0.490653</td>\n",
       "      <td>1.601196</td>\n",
       "      <td>-0.596888</td>\n",
       "      <td>-0.495331</td>\n",
       "      <td>12552.612517</td>\n",
       "      <td>11356.66090</td>\n",
       "    </tr>\n",
       "    <tr>\n",
       "      <td>2</td>\n",
       "      <td>0.897885</td>\n",
       "      <td>-1.021118</td>\n",
       "      <td>-0.939247</td>\n",
       "      <td>-0.490653</td>\n",
       "      <td>-0.624533</td>\n",
       "      <td>-0.596888</td>\n",
       "      <td>2.018851</td>\n",
       "      <td>10734.809931</td>\n",
       "      <td>9144.56500</td>\n",
       "    </tr>\n",
       "    <tr>\n",
       "      <td>3</td>\n",
       "      <td>0.469204</td>\n",
       "      <td>0.979318</td>\n",
       "      <td>-0.106846</td>\n",
       "      <td>-0.490653</td>\n",
       "      <td>-0.624533</td>\n",
       "      <td>-0.596888</td>\n",
       "      <td>-0.495331</td>\n",
       "      <td>10594.708446</td>\n",
       "      <td>9447.38240</td>\n",
       "    </tr>\n",
       "    <tr>\n",
       "      <td>4</td>\n",
       "      <td>-1.459864</td>\n",
       "      <td>0.979318</td>\n",
       "      <td>-0.939247</td>\n",
       "      <td>-0.490653</td>\n",
       "      <td>-0.624533</td>\n",
       "      <td>-0.596888</td>\n",
       "      <td>2.018851</td>\n",
       "      <td>1956.226121</td>\n",
       "      <td>1737.37600</td>\n",
       "    </tr>\n",
       "    <tr>\n",
       "      <td>...</td>\n",
       "      <td>...</td>\n",
       "      <td>...</td>\n",
       "      <td>...</td>\n",
       "      <td>...</td>\n",
       "      <td>...</td>\n",
       "      <td>...</td>\n",
       "      <td>...</td>\n",
       "      <td>...</td>\n",
       "      <td>...</td>\n",
       "    </tr>\n",
       "    <tr>\n",
       "      <td>330</td>\n",
       "      <td>1.755249</td>\n",
       "      <td>-1.021118</td>\n",
       "      <td>-0.939247</td>\n",
       "      <td>2.038099</td>\n",
       "      <td>-0.624533</td>\n",
       "      <td>1.675356</td>\n",
       "      <td>-0.495331</td>\n",
       "      <td>39853.656068</td>\n",
       "      <td>26926.51440</td>\n",
       "    </tr>\n",
       "    <tr>\n",
       "      <td>331</td>\n",
       "      <td>-1.459864</td>\n",
       "      <td>-1.021118</td>\n",
       "      <td>-0.939247</td>\n",
       "      <td>-0.490653</td>\n",
       "      <td>1.601196</td>\n",
       "      <td>-0.596888</td>\n",
       "      <td>-0.495331</td>\n",
       "      <td>2208.934123</td>\n",
       "      <td>1632.56445</td>\n",
       "    </tr>\n",
       "    <tr>\n",
       "      <td>332</td>\n",
       "      <td>1.540908</td>\n",
       "      <td>-1.021118</td>\n",
       "      <td>-0.939247</td>\n",
       "      <td>-0.490653</td>\n",
       "      <td>1.601196</td>\n",
       "      <td>-0.596888</td>\n",
       "      <td>-0.495331</td>\n",
       "      <td>13069.796436</td>\n",
       "      <td>13770.09790</td>\n",
       "    </tr>\n",
       "    <tr>\n",
       "      <td>333</td>\n",
       "      <td>-0.745394</td>\n",
       "      <td>-1.021118</td>\n",
       "      <td>-0.939247</td>\n",
       "      <td>2.038099</td>\n",
       "      <td>-0.624533</td>\n",
       "      <td>-0.596888</td>\n",
       "      <td>-0.495331</td>\n",
       "      <td>30945.657570</td>\n",
       "      <td>16138.76205</td>\n",
       "    </tr>\n",
       "    <tr>\n",
       "      <td>334</td>\n",
       "      <td>-1.102629</td>\n",
       "      <td>0.979318</td>\n",
       "      <td>-0.939247</td>\n",
       "      <td>-0.490653</td>\n",
       "      <td>-0.624533</td>\n",
       "      <td>-0.596888</td>\n",
       "      <td>2.018851</td>\n",
       "      <td>3249.185920</td>\n",
       "      <td>10795.93733</td>\n",
       "    </tr>\n",
       "  </tbody>\n",
       "</table>\n",
       "<p>335 rows × 9 columns</p>\n",
       "</div>"
      ],
      "text/plain": [
       "          age       sex  children    smoker  region_northwest  \\\n",
       "0    1.398014  0.979318 -0.939247 -0.490653         -0.624533   \n",
       "1    1.398014 -1.021118 -0.939247 -0.490653          1.601196   \n",
       "2    0.897885 -1.021118 -0.939247 -0.490653         -0.624533   \n",
       "3    0.469204  0.979318 -0.106846 -0.490653         -0.624533   \n",
       "4   -1.459864  0.979318 -0.939247 -0.490653         -0.624533   \n",
       "..        ...       ...       ...       ...               ...   \n",
       "330  1.755249 -1.021118 -0.939247  2.038099         -0.624533   \n",
       "331 -1.459864 -1.021118 -0.939247 -0.490653          1.601196   \n",
       "332  1.540908 -1.021118 -0.939247 -0.490653          1.601196   \n",
       "333 -0.745394 -1.021118 -0.939247  2.038099         -0.624533   \n",
       "334 -1.102629  0.979318 -0.939247 -0.490653         -0.624533   \n",
       "\n",
       "     region_southeast  region_southwest     lg_charge   knn_charge  \n",
       "0            1.675356         -0.495331  13372.787950  12244.53100  \n",
       "1           -0.596888         -0.495331  12552.612517  11356.66090  \n",
       "2           -0.596888          2.018851  10734.809931   9144.56500  \n",
       "3           -0.596888         -0.495331  10594.708446   9447.38240  \n",
       "4           -0.596888          2.018851   1956.226121   1737.37600  \n",
       "..                ...               ...           ...          ...  \n",
       "330          1.675356         -0.495331  39853.656068  26926.51440  \n",
       "331         -0.596888         -0.495331   2208.934123   1632.56445  \n",
       "332         -0.596888         -0.495331  13069.796436  13770.09790  \n",
       "333         -0.596888         -0.495331  30945.657570  16138.76205  \n",
       "334         -0.596888          2.018851   3249.185920  10795.93733  \n",
       "\n",
       "[335 rows x 9 columns]"
      ]
     },
     "execution_count": 151,
     "metadata": {},
     "output_type": "execute_result"
    }
   ],
   "source": [
    "df_new"
   ]
  },
  {
   "cell_type": "code",
   "execution_count": 152,
   "metadata": {},
   "outputs": [],
   "source": [
    "charges= pd.ExcelWriter(\"charges.xlsx\",engine='xlsxwriter')"
   ]
  },
  {
   "cell_type": "code",
   "execution_count": 154,
   "metadata": {},
   "outputs": [],
   "source": [
    "df_new.to_excel(charges, sheet_name='Sheet1')"
   ]
  },
  {
   "cell_type": "code",
   "execution_count": 156,
   "metadata": {},
   "outputs": [],
   "source": [
    "charges.save()"
   ]
  },
  {
   "cell_type": "markdown",
   "metadata": {},
   "source": [
    "From https://www.youtube.com/watch?v=E_aINqdeP3w"
   ]
  }
 ],
 "metadata": {
  "kernelspec": {
   "display_name": "Python 3",
   "language": "python",
   "name": "python3"
  },
  "language_info": {
   "codemirror_mode": {
    "name": "ipython",
    "version": 3
   },
   "file_extension": ".py",
   "mimetype": "text/x-python",
   "name": "python",
   "nbconvert_exporter": "python",
   "pygments_lexer": "ipython3",
   "version": "3.7.4"
  }
 },
 "nbformat": 4,
 "nbformat_minor": 2
}
